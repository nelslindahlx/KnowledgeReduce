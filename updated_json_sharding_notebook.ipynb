{
  "cells": [
    {
      "cell_type": "markdown",
      "metadata": {
        "id": "view-in-github",
        "colab_type": "text"
      },
      "source": [
        "<a href=\"https://colab.research.google.com/github/nelslindahlx/KnowledgeReduce/blob/main/updated_json_sharding_notebook.ipynb\" target=\"_parent\"><img src=\"https://colab.research.google.com/assets/colab-badge.svg\" alt=\"Open In Colab\"/></a>"
      ]
    },
    {
      "cell_type": "markdown",
      "id": "UGbJgyNQi3lt",
      "metadata": {
        "id": "UGbJgyNQi3lt"
      },
      "source": [
        "### JSON Sharding Notebook Code Summary\n",
        "\n",
        "**1. Importing Libraries**\n",
        "   - The script starts by importing the necessary libraries: `json` for handling JSON files and `os` for file and directory operations.\n",
        "\n",
        "**2. Function Definitions**\n",
        "   - `read_json(file_path)`: Reads a JSON file from the given path and returns the data. It uses the `json.load()` method to deserialize the file content into a Python object.\n",
        "   - `shard_json(data, shard_size=100)`: Splits the JSON data into smaller shards. This function takes the entire data set and the desired shard size as inputs and returns a list of shards. Each shard contains a subset of the data, with up to `shard_size` elements.\n",
        "   - `save_shards(shards, output_dir)`: Saves each shard as a separate JSON file. This function takes the list of shards and an output directory as inputs. It creates the output directory if it does not exist and saves each shard into a separate file named `shard_<index>.json`.\n",
        "\n",
        "**3. Main Execution**\n",
        "   - The main part of the script sets the input file path and output directory, and then executes the process in a sequential manner:\n",
        "       - `input_file`: Path to the large JSON file that needs to be sharded. This needs to be set by the user to point to their specific file.\n",
        "       - `output_directory`: Directory where the resulting sharded files will be saved.\n",
        "       - The script reads the JSON data from the input file, shards the data into smaller pieces, and then saves these shards into the specified output directory.\n",
        "       - A message is printed to indicate the completion of the sharding process and the number of shards created.\n",
        "\n",
        "This script is designed to be executed in a Google Colab notebook, allowing for easy modification and execution of the sharding process. Each step is contained in its own cell for clarity and ease of use. The user can upload their JSON file directly to the Colab environment and set the `input_file` variable to the uploaded file's path."
      ]
    },
    {
      "cell_type": "markdown",
      "id": "mHKj7JdAjFOO",
      "metadata": {
        "id": "mHKj7JdAjFOO"
      },
      "source": [
        "# Step 1: Importing Libraries"
      ]
    },
    {
      "cell_type": "code",
      "execution_count": null,
      "id": "64d2cf82",
      "metadata": {
        "id": "64d2cf82"
      },
      "outputs": [],
      "source": [
        "import json\n",
        "import os"
      ]
    },
    {
      "cell_type": "markdown",
      "id": "Y81hqU_ejKUi",
      "metadata": {
        "id": "Y81hqU_ejKUi"
      },
      "source": [
        "# Step 2: Function Definitions"
      ]
    },
    {
      "cell_type": "code",
      "execution_count": null,
      "id": "258f56dc",
      "metadata": {
        "id": "258f56dc"
      },
      "outputs": [],
      "source": [
        "def read_json(file_path):\n",
        "    try:\n",
        "        with open(file_path, 'r') as file:\n",
        "            data = json.load(file)\n",
        "        return data\n",
        "    except FileNotFoundError:\n",
        "        print(f\"Error: The file '{file_path}' was not found.\")\n",
        "        return None\n",
        "    except json.JSONDecodeError:\n",
        "        print(f\"Error: The file '{file_path}' is not a valid JSON.\")\n",
        "        return None\n",
        "\n",
        "def shard_json(data, shard_size=100):\n",
        "    if data is None:\n",
        "        return []\n",
        "    return [data[i:i + shard_size] for i in range(0, len(data), shard_size)]\n",
        "\n",
        "def save_shards(shards, output_dir):\n",
        "    if not shards:\n",
        "        print(\"No shards to save.\")\n",
        "        return\n",
        "    if not os.path.exists(output_dir):\n",
        "        os.makedirs(output_dir)\n",
        "\n",
        "    for i, shard in enumerate(shards):\n",
        "        shard_file = f\"{output_dir}/shard_{i + 1}.json\"\n",
        "        with open(shard_file, 'w') as file:\n",
        "            json.dump(shard, file, indent=4)"
      ]
    },
    {
      "cell_type": "markdown",
      "id": "EOuXrZiOjOsH",
      "metadata": {
        "id": "EOuXrZiOjOsH"
      },
      "source": [
        "# Step 3: Main Execution"
      ]
    },
    {
      "cell_type": "code",
      "execution_count": null,
      "id": "d04208e2",
      "metadata": {
        "id": "d04208e2"
      },
      "outputs": [],
      "source": [
        "# User inputs for file path and shard size\n",
        "input_file = input(\"Enter the path to your JSON file: \")  # User can input the file path\n",
        "output_directory = 'sharded_json_files'  # Directory where shards will be saved\n",
        "try:\n",
        "    shard_size = int(input(\"Enter shard size (number of elements per shard): \"))\n",
        "except ValueError:\n",
        "    print(\"Invalid shard size. Using default size of 100.\")\n",
        "    shard_size = 100\n",
        "\n",
        "# Read, shard, and save the JSON data\n",
        "data = read_json(input_file)\n",
        "if data is not None:\n",
        "    shards = shard_json(data, shard_size)\n",
        "    save_shards(shards, output_directory)\n",
        "    if shards:\n",
        "        print(f\"JSON sharding complete. {len(shards)} shards created in '{output_directory}'.\")\n",
        "else:\n",
        "    print(\"Sharding process aborted due to earlier errors.\")"
      ]
    }
  ],
  "metadata": {
    "colab": {
      "provenance": [],
      "toc_visible": true,
      "include_colab_link": true
    },
    "language_info": {
      "name": "python"
    },
    "kernelspec": {
      "name": "python3",
      "display_name": "Python 3"
    }
  },
  "nbformat": 4,
  "nbformat_minor": 5
}