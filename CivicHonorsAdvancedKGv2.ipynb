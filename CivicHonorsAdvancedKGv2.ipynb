{
  "nbformat": 4,
  "nbformat_minor": 0,
  "metadata": {
    "colab": {
      "provenance": [],
      "authorship_tag": "ABX9TyN1TpnSz2+se9psSsi6+jB7",
      "include_colab_link": true
    },
    "kernelspec": {
      "name": "python3",
      "display_name": "Python 3"
    },
    "language_info": {
      "name": "python"
    }
  },
  "cells": [
    {
      "cell_type": "markdown",
      "metadata": {
        "id": "view-in-github",
        "colab_type": "text"
      },
      "source": [
        "<a href=\"https://colab.research.google.com/github/nelslindahlx/KnowledgeReduce/blob/main/CivicHonorsAdvancedKGv2.ipynb\" target=\"_parent\"><img src=\"https://colab.research.google.com/assets/colab-badge.svg\" alt=\"Open In Colab\"/></a>"
      ]
    },
    {
      "cell_type": "markdown",
      "source": [
        "# Civic Honors Advanced Knoweldge Graph v2"
      ],
      "metadata": {
        "id": "IDjnZ8B_zVpU"
      }
    },
    {
      "cell_type": "markdown",
      "source": [
        "The code provided is a comprehensive Python script designed for execution in Google Colab, specifically tailored to analyze content from \"https://civichonors.com/\". It encompasses a range of functionalities from web scraping to advanced data visualization and natural language processing. Here's a summary of each step in the code:\n",
        "\n",
        "### 1. Environment Setup\n",
        "- **1.1 Installation of Libraries**: Essential libraries like `requests`, `beautifulsoup4` (bs4), `spacy`, `networkx`, `matplotlib`, `textblob`, `plotly`, `gensim`, and `nltk` are installed. These libraries are fundamental for web scraping, text processing, natural language processing, and visualization.\n",
        "- **1.2 Importing Libraries**: All the installed libraries are imported for use in the subsequent steps.\n",
        "\n",
        "### 2. Data Acquisition and Processing\n",
        "- **2.1 Fetch Webpage Content**: The script fetches the HTML content of \"https://civichonors.com/\" using the `requests` library.\n",
        "- **2.2 Extract Text from HTML**: The `BeautifulSoup` library is used to parse the HTML content and extract the relevant textual data, stripping away any HTML tags, scripts, or styles.\n",
        "\n",
        "### 3. Advanced Natural Language Processing\n",
        "- **3.1 Custom Entity Recognition and Relationship Extraction**: Utilizing `spacy` and its `Matcher` class, custom entity recognition patterns are defined and applied to the text. This step identifies specific entities like awards, civic terms, and organizations.\n",
        "- **3.2 Sentiment Analysis**: The `TextBlob` library is used to perform sentiment analysis on the extracted text, providing insights into the overall sentiment conveyed in the content.\n",
        "\n",
        "### 4. Knowledge Graph Creation and Management\n",
        "- **4.1 Create Advanced Knowledge Graph**: The script constructs a knowledge graph using `networkx`. This graph includes nodes representing the identified entities and edges denoting their relationships.\n",
        "\n",
        "### 5. Visualization and Analysis\n",
        "- **5.1 Interactive Knowledge Graph Visualization**: An interactive visualization of the knowledge graph is created using `plotly`, which allows for an engaging and insightful exploration of the graph.\n",
        "- **5.2 Topic Modeling**: The `gensim` library is employed for topic modeling. The script processes the text, creates a document-term matrix, and applies the LDA (Latent Dirichlet Allocation) model to uncover the main topics within the text.\n",
        "\n",
        "### 6. Execution in Google Colab\n",
        "- The workflow is structured to run sequentially in a Google Colab notebook, ensuring each step logically follows from the previous one. This structured approach facilitates a thorough analysis of the webpage content, from initial data acquisition to in-depth NLP analysis, knowledge graph creation, and sophisticated visualization techniques.\n",
        "\n",
        "This code is a robust example of how various Python libraries and tools can be combined to extract, process, analyze, and visualize web content in a meaningful and insightful way. It demonstrates the power of Python in handling and interpreting complex web data."
      ],
      "metadata": {
        "id": "o1pyYR8izVaZ"
      }
    },
    {
      "cell_type": "markdown",
      "source": [
        "# Step 1: Environment Setup"
      ],
      "metadata": {
        "id": "4SL5w-lbvSZV"
      }
    },
    {
      "cell_type": "markdown",
      "source": [
        "1.1 Install Necessary Libraries"
      ],
      "metadata": {
        "id": "sSYjnqnsvUQj"
      }
    },
    {
      "cell_type": "code",
      "execution_count": 1,
      "metadata": {
        "colab": {
          "base_uri": "https://localhost:8080/"
        },
        "id": "AR8DJoUgvRxe",
        "outputId": "7927d599-d932-49f0-a5b7-86fea7bd01ae"
      },
      "outputs": [
        {
          "output_type": "stream",
          "name": "stdout",
          "text": [
            "Requirement already satisfied: requests in /usr/local/lib/python3.10/dist-packages (2.31.0)\n",
            "Collecting bs4\n",
            "  Downloading bs4-0.0.1.tar.gz (1.1 kB)\n",
            "  Preparing metadata (setup.py) ... \u001b[?25l\u001b[?25hdone\n",
            "Requirement already satisfied: spacy in /usr/local/lib/python3.10/dist-packages (3.6.1)\n",
            "Requirement already satisfied: networkx in /usr/local/lib/python3.10/dist-packages (3.2.1)\n",
            "Requirement already satisfied: matplotlib in /usr/local/lib/python3.10/dist-packages (3.7.1)\n",
            "Requirement already satisfied: textblob in /usr/local/lib/python3.10/dist-packages (0.17.1)\n",
            "Requirement already satisfied: plotly in /usr/local/lib/python3.10/dist-packages (5.15.0)\n",
            "Requirement already satisfied: gensim in /usr/local/lib/python3.10/dist-packages (4.3.2)\n",
            "Requirement already satisfied: nltk in /usr/local/lib/python3.10/dist-packages (3.8.1)\n",
            "Requirement already satisfied: charset-normalizer<4,>=2 in /usr/local/lib/python3.10/dist-packages (from requests) (3.3.2)\n",
            "Requirement already satisfied: idna<4,>=2.5 in /usr/local/lib/python3.10/dist-packages (from requests) (3.6)\n",
            "Requirement already satisfied: urllib3<3,>=1.21.1 in /usr/local/lib/python3.10/dist-packages (from requests) (2.0.7)\n",
            "Requirement already satisfied: certifi>=2017.4.17 in /usr/local/lib/python3.10/dist-packages (from requests) (2023.11.17)\n",
            "Requirement already satisfied: beautifulsoup4 in /usr/local/lib/python3.10/dist-packages (from bs4) (4.11.2)\n",
            "Requirement already satisfied: spacy-legacy<3.1.0,>=3.0.11 in /usr/local/lib/python3.10/dist-packages (from spacy) (3.0.12)\n",
            "Requirement already satisfied: spacy-loggers<2.0.0,>=1.0.0 in /usr/local/lib/python3.10/dist-packages (from spacy) (1.0.5)\n",
            "Requirement already satisfied: murmurhash<1.1.0,>=0.28.0 in /usr/local/lib/python3.10/dist-packages (from spacy) (1.0.10)\n",
            "Requirement already satisfied: cymem<2.1.0,>=2.0.2 in /usr/local/lib/python3.10/dist-packages (from spacy) (2.0.8)\n",
            "Requirement already satisfied: preshed<3.1.0,>=3.0.2 in /usr/local/lib/python3.10/dist-packages (from spacy) (3.0.9)\n",
            "Requirement already satisfied: thinc<8.2.0,>=8.1.8 in /usr/local/lib/python3.10/dist-packages (from spacy) (8.1.12)\n",
            "Requirement already satisfied: wasabi<1.2.0,>=0.9.1 in /usr/local/lib/python3.10/dist-packages (from spacy) (1.1.2)\n",
            "Requirement already satisfied: srsly<3.0.0,>=2.4.3 in /usr/local/lib/python3.10/dist-packages (from spacy) (2.4.8)\n",
            "Requirement already satisfied: catalogue<2.1.0,>=2.0.6 in /usr/local/lib/python3.10/dist-packages (from spacy) (2.0.10)\n",
            "Requirement already satisfied: typer<0.10.0,>=0.3.0 in /usr/local/lib/python3.10/dist-packages (from spacy) (0.9.0)\n",
            "Requirement already satisfied: pathy>=0.10.0 in /usr/local/lib/python3.10/dist-packages (from spacy) (0.10.3)\n",
            "Requirement already satisfied: smart-open<7.0.0,>=5.2.1 in /usr/local/lib/python3.10/dist-packages (from spacy) (6.4.0)\n",
            "Requirement already satisfied: tqdm<5.0.0,>=4.38.0 in /usr/local/lib/python3.10/dist-packages (from spacy) (4.66.1)\n",
            "Requirement already satisfied: numpy>=1.15.0 in /usr/local/lib/python3.10/dist-packages (from spacy) (1.23.5)\n",
            "Requirement already satisfied: pydantic!=1.8,!=1.8.1,<3.0.0,>=1.7.4 in /usr/local/lib/python3.10/dist-packages (from spacy) (1.10.13)\n",
            "Requirement already satisfied: jinja2 in /usr/local/lib/python3.10/dist-packages (from spacy) (3.1.2)\n",
            "Requirement already satisfied: setuptools in /usr/local/lib/python3.10/dist-packages (from spacy) (67.7.2)\n",
            "Requirement already satisfied: packaging>=20.0 in /usr/local/lib/python3.10/dist-packages (from spacy) (23.2)\n",
            "Requirement already satisfied: langcodes<4.0.0,>=3.2.0 in /usr/local/lib/python3.10/dist-packages (from spacy) (3.3.0)\n",
            "Requirement already satisfied: contourpy>=1.0.1 in /usr/local/lib/python3.10/dist-packages (from matplotlib) (1.2.0)\n",
            "Requirement already satisfied: cycler>=0.10 in /usr/local/lib/python3.10/dist-packages (from matplotlib) (0.12.1)\n",
            "Requirement already satisfied: fonttools>=4.22.0 in /usr/local/lib/python3.10/dist-packages (from matplotlib) (4.46.0)\n",
            "Requirement already satisfied: kiwisolver>=1.0.1 in /usr/local/lib/python3.10/dist-packages (from matplotlib) (1.4.5)\n",
            "Requirement already satisfied: pillow>=6.2.0 in /usr/local/lib/python3.10/dist-packages (from matplotlib) (9.4.0)\n",
            "Requirement already satisfied: pyparsing>=2.3.1 in /usr/local/lib/python3.10/dist-packages (from matplotlib) (3.1.1)\n",
            "Requirement already satisfied: python-dateutil>=2.7 in /usr/local/lib/python3.10/dist-packages (from matplotlib) (2.8.2)\n",
            "Requirement already satisfied: tenacity>=6.2.0 in /usr/local/lib/python3.10/dist-packages (from plotly) (8.2.3)\n",
            "Requirement already satisfied: scipy>=1.7.0 in /usr/local/lib/python3.10/dist-packages (from gensim) (1.11.4)\n",
            "Requirement already satisfied: click in /usr/local/lib/python3.10/dist-packages (from nltk) (8.1.7)\n",
            "Requirement already satisfied: joblib in /usr/local/lib/python3.10/dist-packages (from nltk) (1.3.2)\n",
            "Requirement already satisfied: regex>=2021.8.3 in /usr/local/lib/python3.10/dist-packages (from nltk) (2023.6.3)\n",
            "Requirement already satisfied: typing-extensions>=4.2.0 in /usr/local/lib/python3.10/dist-packages (from pydantic!=1.8,!=1.8.1,<3.0.0,>=1.7.4->spacy) (4.5.0)\n",
            "Requirement already satisfied: six>=1.5 in /usr/local/lib/python3.10/dist-packages (from python-dateutil>=2.7->matplotlib) (1.16.0)\n",
            "Requirement already satisfied: blis<0.8.0,>=0.7.8 in /usr/local/lib/python3.10/dist-packages (from thinc<8.2.0,>=8.1.8->spacy) (0.7.11)\n",
            "Requirement already satisfied: confection<1.0.0,>=0.0.1 in /usr/local/lib/python3.10/dist-packages (from thinc<8.2.0,>=8.1.8->spacy) (0.1.4)\n",
            "Requirement already satisfied: soupsieve>1.2 in /usr/local/lib/python3.10/dist-packages (from beautifulsoup4->bs4) (2.5)\n",
            "Requirement already satisfied: MarkupSafe>=2.0 in /usr/local/lib/python3.10/dist-packages (from jinja2->spacy) (2.1.3)\n",
            "Building wheels for collected packages: bs4\n",
            "  Building wheel for bs4 (setup.py) ... \u001b[?25l\u001b[?25hdone\n",
            "  Created wheel for bs4: filename=bs4-0.0.1-py3-none-any.whl size=1256 sha256=2d6eef8f3fa9040da695ddcb225a4fce3f49e6bda97f265f8d893ae1dede029e\n",
            "  Stored in directory: /root/.cache/pip/wheels/25/42/45/b773edc52acb16cd2db4cf1a0b47117e2f69bb4eb300ed0e70\n",
            "Successfully built bs4\n",
            "Installing collected packages: bs4\n",
            "Successfully installed bs4-0.0.1\n",
            "2023-12-15 18:46:35.776927: E external/local_xla/xla/stream_executor/cuda/cuda_dnn.cc:9261] Unable to register cuDNN factory: Attempting to register factory for plugin cuDNN when one has already been registered\n",
            "2023-12-15 18:46:35.777030: E external/local_xla/xla/stream_executor/cuda/cuda_fft.cc:607] Unable to register cuFFT factory: Attempting to register factory for plugin cuFFT when one has already been registered\n",
            "2023-12-15 18:46:35.779670: E external/local_xla/xla/stream_executor/cuda/cuda_blas.cc:1515] Unable to register cuBLAS factory: Attempting to register factory for plugin cuBLAS when one has already been registered\n",
            "2023-12-15 18:46:35.791620: I tensorflow/core/platform/cpu_feature_guard.cc:182] This TensorFlow binary is optimized to use available CPU instructions in performance-critical operations.\n",
            "To enable the following instructions: AVX2 FMA, in other operations, rebuild TensorFlow with the appropriate compiler flags.\n",
            "2023-12-15 18:46:37.311720: W tensorflow/compiler/tf2tensorrt/utils/py_utils.cc:38] TF-TRT Warning: Could not find TensorRT\n",
            "Collecting en-core-web-sm==3.6.0\n",
            "  Downloading https://github.com/explosion/spacy-models/releases/download/en_core_web_sm-3.6.0/en_core_web_sm-3.6.0-py3-none-any.whl (12.8 MB)\n",
            "\u001b[2K     \u001b[90m━━━━━━━━━━━━━━━━━━━━━━━━━━━━━━━━━━━━━━━━\u001b[0m \u001b[32m12.8/12.8 MB\u001b[0m \u001b[31m24.4 MB/s\u001b[0m eta \u001b[36m0:00:00\u001b[0m\n",
            "\u001b[?25hRequirement already satisfied: spacy<3.7.0,>=3.6.0 in /usr/local/lib/python3.10/dist-packages (from en-core-web-sm==3.6.0) (3.6.1)\n",
            "Requirement already satisfied: spacy-legacy<3.1.0,>=3.0.11 in /usr/local/lib/python3.10/dist-packages (from spacy<3.7.0,>=3.6.0->en-core-web-sm==3.6.0) (3.0.12)\n",
            "Requirement already satisfied: spacy-loggers<2.0.0,>=1.0.0 in /usr/local/lib/python3.10/dist-packages (from spacy<3.7.0,>=3.6.0->en-core-web-sm==3.6.0) (1.0.5)\n",
            "Requirement already satisfied: murmurhash<1.1.0,>=0.28.0 in /usr/local/lib/python3.10/dist-packages (from spacy<3.7.0,>=3.6.0->en-core-web-sm==3.6.0) (1.0.10)\n",
            "Requirement already satisfied: cymem<2.1.0,>=2.0.2 in /usr/local/lib/python3.10/dist-packages (from spacy<3.7.0,>=3.6.0->en-core-web-sm==3.6.0) (2.0.8)\n",
            "Requirement already satisfied: preshed<3.1.0,>=3.0.2 in /usr/local/lib/python3.10/dist-packages (from spacy<3.7.0,>=3.6.0->en-core-web-sm==3.6.0) (3.0.9)\n",
            "Requirement already satisfied: thinc<8.2.0,>=8.1.8 in /usr/local/lib/python3.10/dist-packages (from spacy<3.7.0,>=3.6.0->en-core-web-sm==3.6.0) (8.1.12)\n",
            "Requirement already satisfied: wasabi<1.2.0,>=0.9.1 in /usr/local/lib/python3.10/dist-packages (from spacy<3.7.0,>=3.6.0->en-core-web-sm==3.6.0) (1.1.2)\n",
            "Requirement already satisfied: srsly<3.0.0,>=2.4.3 in /usr/local/lib/python3.10/dist-packages (from spacy<3.7.0,>=3.6.0->en-core-web-sm==3.6.0) (2.4.8)\n",
            "Requirement already satisfied: catalogue<2.1.0,>=2.0.6 in /usr/local/lib/python3.10/dist-packages (from spacy<3.7.0,>=3.6.0->en-core-web-sm==3.6.0) (2.0.10)\n",
            "Requirement already satisfied: typer<0.10.0,>=0.3.0 in /usr/local/lib/python3.10/dist-packages (from spacy<3.7.0,>=3.6.0->en-core-web-sm==3.6.0) (0.9.0)\n",
            "Requirement already satisfied: pathy>=0.10.0 in /usr/local/lib/python3.10/dist-packages (from spacy<3.7.0,>=3.6.0->en-core-web-sm==3.6.0) (0.10.3)\n",
            "Requirement already satisfied: smart-open<7.0.0,>=5.2.1 in /usr/local/lib/python3.10/dist-packages (from spacy<3.7.0,>=3.6.0->en-core-web-sm==3.6.0) (6.4.0)\n",
            "Requirement already satisfied: tqdm<5.0.0,>=4.38.0 in /usr/local/lib/python3.10/dist-packages (from spacy<3.7.0,>=3.6.0->en-core-web-sm==3.6.0) (4.66.1)\n",
            "Requirement already satisfied: numpy>=1.15.0 in /usr/local/lib/python3.10/dist-packages (from spacy<3.7.0,>=3.6.0->en-core-web-sm==3.6.0) (1.23.5)\n",
            "Requirement already satisfied: requests<3.0.0,>=2.13.0 in /usr/local/lib/python3.10/dist-packages (from spacy<3.7.0,>=3.6.0->en-core-web-sm==3.6.0) (2.31.0)\n",
            "Requirement already satisfied: pydantic!=1.8,!=1.8.1,<3.0.0,>=1.7.4 in /usr/local/lib/python3.10/dist-packages (from spacy<3.7.0,>=3.6.0->en-core-web-sm==3.6.0) (1.10.13)\n",
            "Requirement already satisfied: jinja2 in /usr/local/lib/python3.10/dist-packages (from spacy<3.7.0,>=3.6.0->en-core-web-sm==3.6.0) (3.1.2)\n",
            "Requirement already satisfied: setuptools in /usr/local/lib/python3.10/dist-packages (from spacy<3.7.0,>=3.6.0->en-core-web-sm==3.6.0) (67.7.2)\n",
            "Requirement already satisfied: packaging>=20.0 in /usr/local/lib/python3.10/dist-packages (from spacy<3.7.0,>=3.6.0->en-core-web-sm==3.6.0) (23.2)\n",
            "Requirement already satisfied: langcodes<4.0.0,>=3.2.0 in /usr/local/lib/python3.10/dist-packages (from spacy<3.7.0,>=3.6.0->en-core-web-sm==3.6.0) (3.3.0)\n",
            "Requirement already satisfied: typing-extensions>=4.2.0 in /usr/local/lib/python3.10/dist-packages (from pydantic!=1.8,!=1.8.1,<3.0.0,>=1.7.4->spacy<3.7.0,>=3.6.0->en-core-web-sm==3.6.0) (4.5.0)\n",
            "Requirement already satisfied: charset-normalizer<4,>=2 in /usr/local/lib/python3.10/dist-packages (from requests<3.0.0,>=2.13.0->spacy<3.7.0,>=3.6.0->en-core-web-sm==3.6.0) (3.3.2)\n",
            "Requirement already satisfied: idna<4,>=2.5 in /usr/local/lib/python3.10/dist-packages (from requests<3.0.0,>=2.13.0->spacy<3.7.0,>=3.6.0->en-core-web-sm==3.6.0) (3.6)\n",
            "Requirement already satisfied: urllib3<3,>=1.21.1 in /usr/local/lib/python3.10/dist-packages (from requests<3.0.0,>=2.13.0->spacy<3.7.0,>=3.6.0->en-core-web-sm==3.6.0) (2.0.7)\n",
            "Requirement already satisfied: certifi>=2017.4.17 in /usr/local/lib/python3.10/dist-packages (from requests<3.0.0,>=2.13.0->spacy<3.7.0,>=3.6.0->en-core-web-sm==3.6.0) (2023.11.17)\n",
            "Requirement already satisfied: blis<0.8.0,>=0.7.8 in /usr/local/lib/python3.10/dist-packages (from thinc<8.2.0,>=8.1.8->spacy<3.7.0,>=3.6.0->en-core-web-sm==3.6.0) (0.7.11)\n",
            "Requirement already satisfied: confection<1.0.0,>=0.0.1 in /usr/local/lib/python3.10/dist-packages (from thinc<8.2.0,>=8.1.8->spacy<3.7.0,>=3.6.0->en-core-web-sm==3.6.0) (0.1.4)\n",
            "Requirement already satisfied: click<9.0.0,>=7.1.1 in /usr/local/lib/python3.10/dist-packages (from typer<0.10.0,>=0.3.0->spacy<3.7.0,>=3.6.0->en-core-web-sm==3.6.0) (8.1.7)\n",
            "Requirement already satisfied: MarkupSafe>=2.0 in /usr/local/lib/python3.10/dist-packages (from jinja2->spacy<3.7.0,>=3.6.0->en-core-web-sm==3.6.0) (2.1.3)\n",
            "\u001b[38;5;2m✔ Download and installation successful\u001b[0m\n",
            "You can now load the package via spacy.load('en_core_web_sm')\n"
          ]
        }
      ],
      "source": [
        "!pip install requests bs4 spacy networkx matplotlib textblob plotly gensim nltk\n",
        "!python -m spacy download en_core_web_sm"
      ]
    },
    {
      "cell_type": "markdown",
      "source": [
        "1.2 Import Libraries"
      ],
      "metadata": {
        "id": "nVA1bVccvZfy"
      }
    },
    {
      "cell_type": "code",
      "source": [
        "import requests\n",
        "from bs4 import BeautifulSoup\n",
        "import spacy\n",
        "from spacy.matcher import Matcher\n",
        "import networkx as nx\n",
        "import matplotlib.pyplot as plt\n",
        "import plotly.graph_objects as go\n",
        "from textblob import TextBlob\n",
        "import gensim\n",
        "from gensim import corpora\n",
        "from gensim.models import LdaModel\n",
        "import nltk\n",
        "from nltk.tokenize import RegexpTokenizer\n",
        "from nltk.corpus import stopwords"
      ],
      "metadata": {
        "id": "maCAQj8Qva4W"
      },
      "execution_count": 2,
      "outputs": []
    },
    {
      "cell_type": "markdown",
      "source": [
        "# Step 2: Data Acquisition and Processing"
      ],
      "metadata": {
        "id": "Jfmh5UqYvcwl"
      }
    },
    {
      "cell_type": "markdown",
      "source": [
        "2.1 Fetch Webpage Content"
      ],
      "metadata": {
        "id": "UOEH6UqeveiK"
      }
    },
    {
      "cell_type": "code",
      "source": [
        "def fetch_webpage_content(url):\n",
        "    response = requests.get(url)\n",
        "    if response.status_code == 200:\n",
        "        return response.text\n",
        "    else:\n",
        "        return None\n",
        "\n",
        "webpage_content = fetch_webpage_content('https://civichonors.com/')"
      ],
      "metadata": {
        "id": "NefWYPPovgdq"
      },
      "execution_count": 3,
      "outputs": []
    },
    {
      "cell_type": "markdown",
      "source": [
        "2.2 Extract Text from HTML"
      ],
      "metadata": {
        "id": "AqIfUMS-viMN"
      }
    },
    {
      "cell_type": "code",
      "source": [
        "def extract_text_from_html(html_content):\n",
        "    soup = BeautifulSoup(html_content, 'html.parser')\n",
        "    for script_or_style in soup(['script', 'style']):\n",
        "        script_or_style.extract()\n",
        "    text = soup.get_text()\n",
        "    return text\n",
        "\n",
        "extracted_text = extract_text_from_html(webpage_content)"
      ],
      "metadata": {
        "id": "yPTiAXZpvjnV"
      },
      "execution_count": 4,
      "outputs": []
    },
    {
      "cell_type": "markdown",
      "source": [
        "# Step 3: Advanced Natural Language Processing"
      ],
      "metadata": {
        "id": "fvRLW2tevlQO"
      }
    },
    {
      "cell_type": "markdown",
      "source": [
        "3.1 Custom Entity Recognition and Relationship Extraction"
      ],
      "metadata": {
        "id": "yrJ2l24RvtIQ"
      }
    },
    {
      "cell_type": "code",
      "source": [
        "nlp = spacy.load(\"en_core_web_sm\")\n",
        "\n",
        "def define_custom_patterns():\n",
        "    matcher = Matcher(nlp.vocab)\n",
        "\n",
        "    award_pattern = [{\"LOWER\": \"award\"}]\n",
        "    civic_term_pattern = [{\"LOWER\": \"civic\"}, {\"IS_ALPHA\": True}]\n",
        "    organization_pattern = [{\"LOWER\": \"association\"}, {\"IS_ALPHA\": True, \"OP\": \"?\"}]\n",
        "\n",
        "    matcher.add(\"AWARD\", [award_pattern])\n",
        "    matcher.add(\"CIVIC_TERM\", [civic_term_pattern])\n",
        "    matcher.add(\"ORGANIZATION\", [organization_pattern])\n",
        "\n",
        "    return matcher\n",
        "\n",
        "custom_matcher = define_custom_patterns()\n",
        "\n",
        "def advanced_nlp_processing(text):\n",
        "    doc = nlp(text)\n",
        "    standard_entities = [(ent.text, ent.label_) for ent in doc.ents]\n",
        "    matches = custom_matcher(doc)\n",
        "    custom_entities = [(doc[start:end].text, nlp.vocab.strings[match_id]) for match_id, start, end in matches]\n",
        "    return standard_entities + custom_entities\n",
        "\n",
        "advanced_entities = advanced_nlp_processing(extracted_text)"
      ],
      "metadata": {
        "id": "eKqhT8IDvl0t"
      },
      "execution_count": 5,
      "outputs": []
    },
    {
      "cell_type": "markdown",
      "source": [
        "3.2 Sentiment Analysis"
      ],
      "metadata": {
        "id": "NzWUxnyovwDE"
      }
    },
    {
      "cell_type": "code",
      "source": [
        "def analyze_sentiment(text):\n",
        "    blob = TextBlob(text)\n",
        "    return blob.sentiment.polarity\n",
        "\n",
        "# Example: Analyze the sentiment of the entire extracted text\n",
        "sentiment_score = analyze_sentiment(extracted_text)"
      ],
      "metadata": {
        "id": "CSB4Em1Yvx_3"
      },
      "execution_count": 6,
      "outputs": []
    },
    {
      "cell_type": "markdown",
      "source": [
        "# Step 4: Knowledge Graph Creation and Management"
      ],
      "metadata": {
        "id": "vnPwziIMv1hK"
      }
    },
    {
      "cell_type": "markdown",
      "source": [
        "4.1 Create Advanced Knowledge Graph"
      ],
      "metadata": {
        "id": "DrnRWXfYv4HL"
      }
    },
    {
      "cell_type": "code",
      "source": [
        "def create_and_store_knowledge_graph(advanced_entities):\n",
        "    G = nx.Graph()\n",
        "    for entity, label in advanced_entities:\n",
        "        G.add_node(entity, label=label)\n",
        "        G.add_edge(entity, \"extracted_from\", label=label)\n",
        "    return G\n",
        "\n",
        "knowledge_graph = create_and_store_knowledge_graph(advanced_entities)"
      ],
      "metadata": {
        "id": "yb3Sy7q0v3OJ"
      },
      "execution_count": 7,
      "outputs": []
    },
    {
      "cell_type": "markdown",
      "source": [
        "# Step 5: Visualization and Analysis"
      ],
      "metadata": {
        "id": "7W628otfv6q9"
      }
    },
    {
      "cell_type": "markdown",
      "source": [
        "5.1 Interactive Knowledge Graph Visualization"
      ],
      "metadata": {
        "id": "EfJ0LcSMv9Lp"
      }
    },
    {
      "cell_type": "code",
      "source": [
        "def interactive_visualize_knowledge_graph(knowledge_graph):\n",
        "    edge_x = []\n",
        "    edge_y = []\n",
        "    for edge in knowledge_graph.edges():\n",
        "        x0, y0 = knowledge_graph.nodes[edge[0]]['pos']\n",
        "        x1, y1 = knowledge_graph.nodes[edge[1]]['pos']\n",
        "        edge_x.extend([x0, x1, None])\n",
        "        edge_y.extend([y0, y1, None])\n",
        "\n",
        "    edge_trace = go.Scatter(\n",
        "        x=edge_x, y=edge_y,\n",
        "        line=dict(width=0.5, color='#888'),\n",
        "        hoverinfo='none',\n",
        "        mode='lines')\n",
        "\n",
        "    node_x = []\n",
        "    node_y = []\n",
        "    for node in knowledge_graph.nodes():\n",
        "        x, y = knowledge_graph.nodes[node]['pos']\n",
        "        node_x.append(x)\n",
        "        node_y.append(y)\n",
        "\n",
        "    node_trace = go.Scatter(\n",
        "        x=node_x, y=node_y,\n",
        "        mode='markers',\n",
        "        hoverinfo='text',\n",
        "        marker=dict(showscale=True, colorscale='YlGnBu', size=10))\n",
        "\n",
        "    fig = go.Figure(data=[edge_trace, node_trace],\n",
        "                    layout=go.Layout(\n",
        "                        showlegend=False,\n",
        "                        hovermode='closest',\n",
        "                        margin=dict(b=0,l=0,r=0,t=0)))\n",
        "\n",
        "    fig.show()\n",
        "\n",
        "# Example: Visualize the knowledge graph\n",
        "pos = nx.spring_layout(knowledge_graph)  # Set the positions of the nodes\n",
        "for node in knowledge_graph.nodes:\n",
        "    knowledge_graph.nodes[node]['pos'] = list(pos[node])\n",
        "interactive_visualize_knowledge_graph(knowledge_graph)"
      ],
      "metadata": {
        "colab": {
          "base_uri": "https://localhost:8080/",
          "height": 542
        },
        "id": "IJQT2QmKv_aW",
        "outputId": "fe2d4ac6-cea7-4170-d8b7-e898d3729eaa"
      },
      "execution_count": 8,
      "outputs": [
        {
          "output_type": "display_data",
          "data": {
            "text/html": [
              "<html>\n",
              "<head><meta charset=\"utf-8\" /></head>\n",
              "<body>\n",
              "    <div>            <script src=\"https://cdnjs.cloudflare.com/ajax/libs/mathjax/2.7.5/MathJax.js?config=TeX-AMS-MML_SVG\"></script><script type=\"text/javascript\">if (window.MathJax && window.MathJax.Hub && window.MathJax.Hub.Config) {window.MathJax.Hub.Config({SVG: {font: \"STIX-Web\"}});}</script>                <script type=\"text/javascript\">window.PlotlyConfig = {MathJaxConfig: 'local'};</script>\n",
              "        <script charset=\"utf-8\" src=\"https://cdn.plot.ly/plotly-2.24.1.min.js\"></script>                <div id=\"9a3b3b40-04e6-43ca-9899-fd165e54eb73\" class=\"plotly-graph-div\" style=\"height:525px; width:100%;\"></div>            <script type=\"text/javascript\">                                    window.PLOTLYENV=window.PLOTLYENV || {};                                    if (document.getElementById(\"9a3b3b40-04e6-43ca-9899-fd165e54eb73\")) {                    Plotly.newPlot(                        \"9a3b3b40-04e6-43ca-9899-fd165e54eb73\",                        [{\"hoverinfo\":\"none\",\"line\":{\"color\":\"#888\",\"width\":0.5},\"mode\":\"lines\",\"x\":[-0.4034370502620774,-0.008181671457711774,null,-0.008181671457711774,0.44958821811957317,null,-0.008181671457711774,0.5278346177489097,null,-0.008181671457711774,0.6026743580580256,null,-0.008181671457711774,0.7310926532687008,null,-0.008181671457711774,0.5733081159305119,null,-0.008181671457711774,0.0993418586841269,null,-0.008181671457711774,-0.669325631140765,null,-0.008181671457711774,-0.25151807167160845,null,-0.008181671457711774,0.15332909338710404,null,-0.008181671457711774,-0.5049881663063022,null,-0.008181671457711774,0.40753630865476714,null,-0.008181671457711774,0.24909090476177173,null,-0.008181671457711774,-0.7944285618387884,null,-0.008181671457711774,-0.41714616647131686,null,-0.008181671457711774,0.46426359195787426,null,-0.008181671457711774,0.39486272860591376,null,-0.008181671457711774,0.23127304464035742,null,-0.008181671457711774,-0.3576548163474111,null,-0.008181671457711774,-0.36763251891090304,null,-0.008181671457711774,0.5893464147750339,null,-0.008181671457711774,-0.10497337587621819,null,-0.008181671457711774,0.35750049368013337,null,-0.008181671457711774,0.6586358492974057,null,-0.008181671457711774,0.47870894773026285,null,-0.008181671457711774,0.005474077381833248,null,-0.008181671457711774,-0.9653994705644512,null,-0.008181671457711774,-0.07342229228529826,null,-0.008181671457711774,0.07129854210053976,null,-0.008181671457711774,-0.7603900398240505,null,-0.008181671457711774,0.07046417834692978,null,-0.008181671457711774,0.21385337986754138,null,-0.008181671457711774,0.760587416441144,null,-0.008181671457711774,0.6753935701255249,null,-0.008181671457711774,-0.38639138193876327,null,-0.008181671457711774,0.9677567979045548,null,-0.008181671457711774,-0.8575220370136977,null,-0.008181671457711774,-0.9235731505565451,null,-0.008181671457711774,-0.7146606607292616,null,-0.008181671457711774,0.9121431472137973,null,-0.008181671457711774,0.010495891881098085,null,-0.008181671457711774,0.5851488604657441,null,-0.008181671457711774,-0.7494546780396035,null,-0.008181671457711774,-0.8045730789096385,null,-0.008181671457711774,0.4076768196620785,null,-0.008181671457711774,0.512326512242839,null,-0.008181671457711774,0.4033309479391613,null,-0.008181671457711774,-0.09052582945490967,null,-0.008181671457711774,0.13840805975333542,null,-0.008181671457711774,-0.12847375482287884,null,-0.008181671457711774,-0.5722230759779425,null,-0.008181671457711774,0.20792519044681998,null,-0.008181671457711774,0.40412654803408266,null,-0.008181671457711774,-0.9288927328659283,null,-0.008181671457711774,-0.20659551872275078,null,-0.008181671457711774,0.5322328394157567,null,-0.008181671457711774,-0.8960170336726451,null,-0.008181671457711774,-0.8052547603429696,null,-0.008181671457711774,0.7499514604657336,null,-0.008181671457711774,0.7852011751325657,null,-0.008181671457711774,0.6764863767400583,null,-0.008181671457711774,0.9852395417650137,null,-0.008181671457711774,-0.6542815314836373,null,-0.008181671457711774,-0.7171716471806581,null,-0.008181671457711774,-0.08057188684055475,null,-0.008181671457711774,-0.2638085598914914,null,-0.008181671457711774,-0.24156447418998905,null,-0.008181671457711774,0.5171231683465777,null,-0.008181671457711774,-0.06470998916718113,null,-0.008181671457711774,-0.548054064135758,null,-0.008181671457711774,0.3763673619897109,null,-0.008181671457711774,0.753822475472584,null,-0.008181671457711774,-0.5445163040391808,null,-0.008181671457711774,0.3646601261521272,null,-0.008181671457711774,-0.28090393261875174,null,-0.008181671457711774,0.7777385707314092,null,-0.008181671457711774,0.5045303544274043,null,-0.008181671457711774,-0.8551826575877859,null,-0.008181671457711774,0.8269400948449793,null,-0.008181671457711774,0.3264268402621709,null,-0.008181671457711774,-0.6849418091457817,null,-0.008181671457711774,0.5718906083569345,null,-0.008181671457711774,-0.175896915070466,null,-0.008181671457711774,0.29755787368069636,null,-0.008181671457711774,-0.5106564505212351,null,-0.008181671457711774,0.1945678804984531,null,-0.008181671457711774,0.5613288703525643,null,-0.008181671457711774,-0.6745974341783187,null,-0.008181671457711774,-0.8015446652618959,null,-0.008181671457711774,0.5217357782965166,null,-0.008181671457711774,0.22749442679215257,null,-0.008181671457711774,-0.9880191939939834,null,-0.008181671457711774,0.5826656128862332,null,-0.008181671457711774,-0.7153510151326241,null,-0.008181671457711774,-0.4630561802821464,null,-0.008181671457711774,-0.8504733217852191,null,-0.008181671457711774,0.6783158143878847,null,-0.008181671457711774,0.976570621619479,null,-0.008181671457711774,-0.6892952914430733,null,-0.008181671457711774,0.4620803431553621,null,-0.008181671457711774,-0.5410395533571847,null,-0.008181671457711774,0.4528742042458244,null,-0.008181671457711774,-0.3326608494836017,null,-0.008181671457711774,-0.5316504740815661,null,-0.008181671457711774,-0.3056834124292071,null,-0.008181671457711774,0.30270538358613186,null,-0.008181671457711774,-0.4464159196653296,null,-0.008181671457711774,0.23095153724494466,null,-0.008181671457711774,-0.23230486130744396,null,-0.008181671457711774,0.5954880051087659,null,-0.008181671457711774,-0.006563863279184272,null,-0.008181671457711774,0.031507859674828595,null,-0.008181671457711774,-0.7789010815162595,null,-0.008181671457711774,0.10988480100596322,null,-0.008181671457711774,0.04674063706092074,null,-0.008181671457711774,-0.6211038054352389,null,-0.008181671457711774,0.33080690873422747,null,-0.008181671457711774,0.12322442386042536,null,-0.008181671457711774,0.799987429013715,null,-0.008181671457711774,0.8179343168795051,null,-0.008181671457711774,-0.7484789968069678,null,-0.008181671457711774,-0.21667233446560344,null,-0.008181671457711774,0.12997127955755286,null,-0.008181671457711774,0.7027011798339358,null,-0.008181671457711774,0.9682871448590226,null,-0.008181671457711774,-0.22572067991960415,null,-0.008181671457711774,-0.2608532136311858,null,-0.008181671457711774,-0.3976316551557028,null,-0.008181671457711774,-0.42850670431383975,null,-0.008181671457711774,-0.6545128967913976,null,-0.008181671457711774,-0.11169609898418983,null,-0.008181671457711774,-0.48986439325843006,null,-0.008181671457711774,-0.8544081368844607,null,-0.008181671457711774,0.46072356462789354,null,-0.008181671457711774,0.0175572148595751,null,-0.008181671457711774,-0.9217385725366078,null,-0.008181671457711774,0.7362228388492371,null,-0.008181671457711774,-0.23815539804344782,null,-0.008181671457711774,0.21640495035251248,null,-0.008181671457711774,-0.23844119891646942,null,-0.008181671457711774,-0.3052843989057768,null,-0.008181671457711774,-0.20112876679162067,null,-0.008181671457711774,-0.7970216124068902,null,-0.008181671457711774,-0.37190833646389576,null,-0.008181671457711774,-0.5247897596699533,null,-0.008181671457711774,-0.5931310349589506,null,-0.008181671457711774,-0.9609910454734274,null,-0.008181671457711774,0.9728958919927327,null,-0.008181671457711774,-0.7555364615028805,null,-0.008181671457711774,0.057002783801539954,null,-0.008181671457711774,-0.30309358377724427,null,-0.008181671457711774,-0.03504336821311154,null,-0.008181671457711774,0.7239661280477591,null,-0.008181671457711774,0.6150948743230005,null,-0.008181671457711774,-0.09247181209503219,null,-0.008181671457711774,0.6584498355745007,null,-0.008181671457711774,-0.4776678350655167,null,-0.008181671457711774,0.25830518661250973,null,-0.008181671457711774,-0.1283337092949291,null,-0.008181671457711774,-0.7277060284065648,null,-0.008181671457711774,-0.37897106860099505,null,-0.008181671457711774,-0.31467144906572664,null,-0.008181671457711774,-0.9521544991600378,null,-0.008181671457711774,0.5846592398406809,null,-0.008181671457711774,0.004929940170473779,null,-0.008181671457711774,0.8217661030079503,null,-0.008181671457711774,0.6856334861848746,null,-0.008181671457711774,0.7631499553677884,null,-0.008181671457711774,0.42077932487585,null,-0.008181671457711774,-0.10815127738479369,null,-0.008181671457711774,0.16934378430614452,null,-0.008181671457711774,0.9148205704983995,null,-0.008181671457711774,0.325194398161852,null,-0.008181671457711774,-0.674505455730014,null,-0.008181671457711774,0.6435816493467807,null,-0.008181671457711774,-0.21711744720535894,null,-0.008181671457711774,0.5498454754407484,null,-0.008181671457711774,-0.23610005370405002,null,-0.008181671457711774,0.730031960410036,null,-0.008181671457711774,-0.2798884346776751,null,-0.008181671457711774,0.12939800636392385,null,-0.008181671457711774,-0.3552283310919404,null,-0.008181671457711774,-0.813761039954023,null,-0.008181671457711774,-0.5435645199537265,null,-0.008181671457711774,0.8282106791235326,null,-0.008181671457711774,0.7188199258565117,null,-0.008181671457711774,0.15225872401289564,null,-0.008181671457711774,0.8438825292408805,null,-0.008181671457711774,0.7459406900927327,null,-0.008181671457711774,-0.5804706380488011,null,-0.008181671457711774,0.35737771693397846,null,-0.008181671457711774,0.3034708032864298,null,-0.008181671457711774,-0.09493350739096895,null,-0.008181671457711774,0.05229960648229263,null,-0.008181671457711774,-0.41445636018602605,null,-0.008181671457711774,0.3303214594734806,null,-0.008181671457711774,0.2381289505168593,null,-0.008181671457711774,-0.6828399540034644,null,-0.008181671457711774,-0.6298994567526746,null,-0.008181671457711774,-0.6008440448989514,null,-0.008181671457711774,-0.4704654196743978,null,-0.008181671457711774,-0.05635277320645177,null,-0.008181671457711774,0.0678445395097845,null,-0.008181671457711774,0.2988139439944781,null,-0.008181671457711774,0.09798009822271139,null,-0.008181671457711774,0.8138800200259606,null,-0.008181671457711774,-0.4421729546962597,null,-0.008181671457711774,-0.41860964863331257,null,-0.008181671457711774,-0.39653921394646263,null,-0.008181671457711774,0.20584969938012776,null,-0.008181671457711774,0.5075212572127662,null,-0.008181671457711774,0.49215659325352096,null,-0.008181671457711774,-0.7760629867128148,null,-0.008181671457711774,0.003562799562888541,null,-0.008181671457711774,-0.5962144232927087,null,-0.008181671457711774,-0.19350998299202082,null,-0.008181671457711774,-0.5814227449506192,null,-0.008181671457711774,-0.3221719017778756,null,-0.008181671457711774,0.9097742150341209,null,-0.008181671457711774,-0.6602249793816366,null,-0.008181671457711774,-0.008594085844102001,null,-0.008181671457711774,0.21947547727720787,null,-0.008181671457711774,0.6268046587737856,null,-0.008181671457711774,0.7271381666732459,null,-0.008181671457711774,-0.16198381300998263,null,-0.008181671457711774,-0.5007125906682761,null,-0.008181671457711774,-0.8602118065253096,null,-0.008181671457711774,0.8934080640833643,null,-0.008181671457711774,0.6357624228008312,null,-0.008181671457711774,0.5409788743326976,null,-0.008181671457711774,-0.5603594880521663,null,-0.008181671457711774,-0.7284774298296046,null,-0.008181671457711774,0.8643948318273565,null,-0.008181671457711774,0.40325926272234935,null,-0.008181671457711774,-1.0,null,-0.008181671457711774,0.7922291182619451,null,-0.008181671457711774,-0.0389305570056065,null,-0.008181671457711774,0.12238740129989506,null,-0.008181671457711774,0.32059477159968947,null,-0.008181671457711774,-0.9140391989157155,null,-0.008181671457711774,0.8720748886722717,null,-0.008181671457711774,-0.6094168296760967,null,-0.008181671457711774,0.032888268953421534,null,-0.008181671457711774,-0.10006183109076845,null,-0.008181671457711774,0.9370588643021477,null,-0.008181671457711774,0.4297892064658924,null,-0.008181671457711774,-0.4422542282708416,null,-0.008181671457711774,-0.16073108755364449,null,-0.008181671457711774,-0.5940232961322146,null,-0.008181671457711774,0.8784302602040981,null,-0.008181671457711774,0.8735484319815452,null,-0.008181671457711774,0.3927530738130543,null,-0.008181671457711774,-0.15795924161650915,null,-0.008181671457711774,0.19123638730152315,null,-0.008181671457711774,-0.4666329985814036,null,-0.008181671457711774,-0.3358592394619619,null,-0.008181671457711774,-0.6341263625574274,null,-0.008181671457711774,0.2157003001594241,null,-0.008181671457711774,0.6396097511203807,null,-0.008181671457711774,0.514804370078598,null,-0.008181671457711774,-0.3432430668105002,null,-0.008181671457711774,-0.8688689080345108,null,-0.008181671457711774,-0.8734831082832512,null,-0.008181671457711774,0.8812611755030996,null,-0.008181671457711774,-0.7319228938172264,null,-0.008181671457711774,0.3474612642377238,null,-0.008181671457711774,0.702040637898424,null,-0.008181671457711774,-0.5527543006873616,null,-0.008181671457711774,-0.3570779182066553,null,-0.008181671457711774,-0.6405475942649639,null,-0.008181671457711774,-0.49060626867712176,null,-0.008181671457711774,-0.9063024481678088,null,-0.008181671457711774,0.9165735175114238,null,-0.008181671457711774,0.41759767258016195,null,-0.008181671457711774,0.5247813743358161,null,-0.008181671457711774,0.23901908758325707,null,-0.008181671457711774,-0.48946205096553375,null,-0.008181671457711774,0.3024679267996956,null,-0.008181671457711774,-0.14838730802426964,null,-0.008181671457711774,0.604586178501836,null,-0.008181671457711774,-0.8240583463871198,null],\"y\":[0.9019946372380064,-0.003624381104637875,null,-0.003624381104637875,0.7171883859623281,null,-0.003624381104637875,0.2657505989296438,null,-0.003624381104637875,0.5226348970726491,null,-0.003624381104637875,0.6478769404832238,null,-0.003624381104637875,-0.17594025823592704,null,-0.003624381104637875,0.46676473037562377,null,-0.003624381104637875,0.2584480783990096,null,-0.003624381104637875,-0.8909921836148982,null,-0.003624381104637875,0.8279875262396328,null,-0.003624381104637875,-0.41632221579918355,null,-0.003624381104637875,-0.5153286624213677,null,-0.003624381104637875,0.9588593618943851,null,-0.003624381104637875,-0.23984142949384796,null,-0.003624381104637875,0.31097046403136847,null,-0.003624381104637875,0.34862568633609015,null,-0.003624381104637875,-0.907541475049062,null,-0.003624381104637875,0.8176582651690002,null,-0.003624381104637875,-0.9238477254922934,null,-0.003624381104637875,-0.17219624312906257,null,-0.003624381104637875,0.3934023781589279,null,-0.003624381104637875,-0.9736966825905246,null,-0.003624381104637875,0.658027236336419,null,-0.003624381104637875,-0.5286413317568228,null,-0.003624381104637875,0.8512535765241326,null,-0.003624381104637875,-0.9761479076881726,null,-0.003624381104637875,-0.20988466081990828,null,-0.003624381104637875,0.7197920787339502,null,-0.003624381104637875,-0.9156893945298943,null,-0.003624381104637875,-0.6298696560231113,null,-0.003624381104637875,-0.44242641706565355,null,-0.003624381104637875,-0.21405633193167203,null,-0.003624381104637875,0.39206425313104326,null,-0.003624381104637875,0.7024623249871396,null,-0.003624381104637875,-0.3178861793452262,null,-0.003624381104637875,0.22846393620302644,null,-0.003624381104637875,-0.4298718092121605,null,-0.003624381104637875,0.2921116356396218,null,-0.003624381104637875,0.6742803218655888,null,-0.003624381104637875,-0.22733505016015446,null,-0.003624381104637875,0.6724124937373618,null,-0.003624381104637875,-0.4601033983858658,null,-0.003624381104637875,0.49989137906708025,null,-0.003624381104637875,-0.08344322120390732,null,-0.003624381104637875,-0.8466945276083166,null,-0.003624381104637875,0.4567133637304345,null,-0.003624381104637875,0.7837308583231603,null,-0.003624381104637875,0.9172971431732673,null,-0.003624381104637875,-0.8489041742894573,null,-0.003624381104637875,0.8179235968849542,null,-0.003624381104637875,0.7887140689821296,null,-0.003624381104637875,0.40100888335051776,null,-0.003624381104637875,0.9034480583975983,null,-0.003624381104637875,-0.133052641221626,null,-0.003624381104637875,0.6635429795999629,null,-0.003624381104637875,0.7154443581811841,null,-0.003624381104637875,-0.25747120108359095,null,-0.003624381104637875,0.33077218124019436,null,-0.003624381104637875,0.570819280056247,null,-0.003624381104637875,-0.5950926494590629,null,-0.003624381104637875,0.4732594858743583,null,-0.003624381104637875,-0.04861441682662525,null,-0.003624381104637875,-0.21763656635886944,null,-0.003624381104637875,0.1589276567221952,null,-0.003624381104637875,-0.9012733234756053,null,-0.003624381104637875,0.084924792148966,null,-0.003624381104637875,-0.7830902849861812,null,-0.003624381104637875,-0.08842331441070683,null,-0.003624381104637875,-0.7546266570974918,null,-0.003624381104637875,-0.8164342222959976,null,-0.003624381104637875,-0.6315692409543866,null,-0.003624381104637875,-0.15648794293311163,null,-0.003624381104637875,0.38533452508284716,null,-0.003624381104637875,0.2512288705008454,null,-0.003624381104637875,-0.5711221744995114,null,-0.003624381104637875,0.19303328898474856,null,-0.003624381104637875,0.5567749476141894,null,-0.003624381104637875,0.4903034269883997,null,-0.003624381104637875,-0.34911562908467014,null,-0.003624381104637875,0.36280502209487003,null,-0.003624381104637875,-0.3777691655955638,null,-0.003624381104637875,-0.3574824056281571,null,-0.003624381104637875,-0.5706976066639374,null,-0.003624381104637875,-0.545120771432589,null,-0.003624381104637875,0.5984723321241119,null,-0.003624381104637875,-0.3572067750611162,null,-0.003624381104637875,-0.6882707604339425,null,-0.003624381104637875,-0.7309567705574923,null,-0.003624381104637875,0.5830851039326341,null,-0.003624381104637875,0.633112996556999,null,-0.003624381104637875,-0.8712306719548027,null,-0.003624381104637875,-0.07696492674971776,null,-0.003624381104637875,0.1480607021179605,null,-0.003624381104637875,0.5870139142462131,null,-0.003624381104637875,-0.2555534134688956,null,-0.003624381104637875,-0.1773434504880802,null,-0.003624381104637875,-0.3920579328989165,null,-0.003624381104637875,-0.17111552251116563,null,-0.003624381104637875,-0.048263107910407346,null,-0.003624381104637875,-0.39246467268492435,null,-0.003624381104637875,0.2825762449566553,null,-0.003624381104637875,-0.7717289741521115,null,-0.003624381104637875,0.8356348168981582,null,-0.003624381104637875,0.6819474621825412,null,-0.003624381104637875,-0.4798097453538254,null,-0.003624381104637875,-0.9118173130927033,null,-0.003624381104637875,-0.6227844300830817,null,-0.003624381104637875,0.678079813887467,null,-0.003624381104637875,0.5597195019606018,null,-0.003624381104637875,-0.5959309791381785,null,-0.003624381104637875,0.9879857101630574,null,-0.003624381104637875,-0.7922404992019838,null,-0.003624381104637875,0.24789079012175777,null,-0.003624381104637875,0.9829335245833749,null,-0.003624381104637875,-0.5557559522211932,null,-0.003624381104637875,0.44547415509577554,null,-0.003624381104637875,-0.41694135430276724,null,-0.003624381104637875,-0.9761472892258675,null,-0.003624381104637875,-0.08471320272903478,null,-0.003624381104637875,-0.5152604251688111,null,-0.003624381104637875,0.02555454997548401,null,-0.003624381104637875,-0.675833460990784,null,-0.003624381104637875,0.6884196695577014,null,-0.003624381104637875,-0.6730046321339338,null,-0.003624381104637875,0.03771829597064278,null,-0.003624381104637875,0.30436771908717497,null,-0.003624381104637875,-0.35399769206321147,null,-0.003624381104637875,-0.8381227051268249,null,-0.003624381104637875,0.6229534867341193,null,-0.003624381104637875,0.07541543130528716,null,-0.003624381104637875,0.5085122863824759,null,-0.003624381104637875,0.07844344824940612,null,-0.003624381104637875,-0.017841761788001398,null,-0.003624381104637875,-0.7049648848607639,null,-0.003624381104637875,0.9262414123877709,null,-0.003624381104637875,-0.34537356608862013,null,-0.003624381104637875,-0.2456508546319911,null,-0.003624381104637875,0.44235991466197533,null,-0.003624381104637875,-0.6984552041631319,null,-0.003624381104637875,0.8675500253280116,null,-0.003624381104637875,0.6407684541604849,null,-0.003624381104637875,0.9311503287273276,null,-0.003624381104637875,0.12148509445205123,null,-0.003624381104637875,0.00534499874302994,null,-0.003624381104637875,0.5056783198604624,null,-0.003624381104637875,-0.3286130159912288,null,-0.003624381104637875,0.2144040422049167,null,-0.003624381104637875,0.12462690723295113,null,-0.003624381104637875,-0.44082642782032894,null,-0.003624381104637875,0.7648143196939182,null,-0.003624381104637875,0.9344423002968424,null,-0.003624381104637875,-0.3650238757712977,null,-0.003624381104637875,-0.4669799169740699,null,-0.003624381104637875,0.7557815308422215,null,-0.003624381104637875,0.20548866108372965,null,-0.003624381104637875,0.34046912386625117,null,-0.003624381104637875,-0.8405589802831376,null,-0.003624381104637875,0.14478968432488773,null,-0.003624381104637875,0.9830836149461615,null,-0.003624381104637875,-0.14769018647381554,null,-0.003624381104637875,0.7175683356505376,null,-0.003624381104637875,-0.8420907705573107,null,-0.003624381104637875,0.006982208945382126,null,-0.003624381104637875,-0.7839468379228856,null,-0.003624381104637875,-0.6826998976326324,null,-0.003624381104637875,0.5345252078119406,null,-0.003624381104637875,-0.08824690686651744,null,-0.003624381104637875,0.4777065732220502,null,-0.003624381104637875,0.003883632260033701,null,-0.003624381104637875,0.6139610445680884,null,-0.003624381104637875,0.9248672364228177,null,-0.003624381104637875,0.3110674643735183,null,-0.003624381104637875,-0.8021907716357505,null,-0.003624381104637875,-0.5909898695299334,null,-0.003624381104637875,-0.7238260015554411,null,-0.003624381104637875,-0.9661507806336159,null,-0.003624381104637875,0.8083568037761453,null,-0.003624381104637875,-0.12690340347876655,null,-0.003624381104637875,0.01306176650886096,null,-0.003624381104637875,0.7602647538934457,null,-0.003624381104637875,-0.7511477912410721,null,-0.003624381104637875,-0.63879767848374,null,-0.003624381104637875,0.4205122891518937,null,-0.003624381104637875,-0.6134393596991905,null,-0.003624381104637875,-0.22525794411910027,null,-0.003624381104637875,-0.5920224790315062,null,-0.003624381104637875,0.2521423099870406,null,-0.003624381104637875,-0.4460633094141072,null,-0.003624381104637875,-0.3363681088345983,null,-0.003624381104637875,0.0039695170698145045,null,-0.003624381104637875,-0.11702820337355085,null,-0.003624381104637875,0.7427173710945133,null,-0.003624381104637875,-0.6465559893963319,null,-0.003624381104637875,-0.23640890944481466,null,-0.003624381104637875,-0.7361677772239726,null,-0.003624381104637875,0.8301548649028705,null,-0.003624381104637875,-0.010821212404781724,null,-0.003624381104637875,-0.5140671569053136,null,-0.003624381104637875,0.540179811586531,null,-0.003624381104637875,-0.44086444844973044,null,-0.003624381104637875,-0.08325894137191313,null,-0.003624381104637875,-0.5184584597586323,null,-0.003624381104637875,0.8570668279495876,null,-0.003624381104637875,0.901028939307699,null,-0.003624381104637875,-0.6441419644144536,null,-0.003624381104637875,0.3169640036817177,null,-0.003624381104637875,-0.5249510645624255,null,-0.003624381104637875,0.793016767538695,null,-0.003624381104637875,-0.4259801634581522,null,-0.003624381104637875,-0.5974127856135985,null,-0.003624381104637875,-0.5106591196205043,null,-0.003624381104637875,-0.6087583595280659,null,-0.003624381104637875,-0.5315979694189507,null,-0.003624381104637875,0.5481818603929831,null,-0.003624381104637875,0.1753321988703282,null,-0.003624381104637875,0.761523862803303,null,-0.003624381104637875,-0.7379121438479133,null,-0.003624381104637875,-0.734786100634611,null,-0.003624381104637875,-0.3867721192044443,null,-0.003624381104637875,0.3416609868685279,null,-0.003624381104637875,-0.8751462157981013,null,-0.003624381104637875,0.5568381572515868,null,-0.003624381104637875,0.2276311274288511,null,-0.003624381104637875,0.2650531923874802,null,-0.003624381104637875,-0.4444871493535177,null,-0.003624381104637875,-0.7125275620110115,null,-0.003624381104637875,-0.5180325435877767,null,-0.003624381104637875,0.13234477172114495,null,-0.003624381104637875,0.6128681695336626,null,-0.003624381104637875,0.061965425645395124,null,-0.003624381104637875,-0.5256038735943656,null,-0.003624381104637875,0.41392754886747524,null,-0.003624381104637875,0.031064583657669224,null,-0.003624381104637875,0.5840865380474937,null,-0.003624381104637875,0.07543565852974615,null,-0.003624381104637875,0.0920282831504445,null,-0.003624381104637875,0.8318314678679617,null,-0.003624381104637875,0.5897359075442669,null,-0.003624381104637875,-0.7028294084553941,null,-0.003624381104637875,0.14909127958217644,null,-0.003624381104637875,0.22747648723261024,null,-0.003624381104637875,0.6441460744252443,null,-0.003624381104637875,0.3432822139580536,null,-0.003624381104637875,0.3804978291333855,null,-0.003624381104637875,-0.30369090986499925,null,-0.003624381104637875,0.1403283626255705,null,-0.003624381104637875,0.45328876472988083,null,-0.003624381104637875,-0.27296273075918387,null,-0.003624381104637875,-0.11240269526093563,null,-0.003624381104637875,0.3843878687328907,null,-0.003624381104637875,0.46100016992373194,null,-0.003624381104637875,0.4553616738106884,null,-0.003624381104637875,-0.8698754045897471,null,-0.003624381104637875,-0.48481064297562854,null,-0.003624381104637875,0.19112965519531055,null,-0.003624381104637875,0.21361107145125313,null,-0.003624381104637875,-0.6609138800839082,null,-0.003624381104637875,-0.9564361743506499,null,-0.003624381104637875,-0.254465316369813,null,-0.003624381104637875,-0.8420091763451776,null,-0.003624381104637875,0.4042663994839127,null,-0.003624381104637875,0.22396398763051634,null,-0.003624381104637875,0.06994805863581417,null,-0.003624381104637875,-0.04531628705287607,null,-0.003624381104637875,-0.30513859048264574,null,-0.003624381104637875,-0.31645744328461367,null,-0.003624381104637875,0.11783712253012643,null,-0.003624381104637875,-0.21458433005670324,null,-0.003624381104637875,0.5304723133253,null,-0.003624381104637875,0.7310317225972902,null,-0.003624381104637875,0.8467976639089945,null,-0.003624381104637875,0.37912781852136596,null,-0.003624381104637875,-0.11709030982506016,null,-0.003624381104637875,-0.21914913196031935,null,-0.003624381104637875,-0.2732922971885696,null,-0.003624381104637875,-0.7829450347829197,null,-0.003624381104637875,0.757108452233248,null,-0.003624381104637875,0.516743376948311,null,-0.003624381104637875,-0.7708205512283541,null,-0.003624381104637875,-0.012629832727635808,null,-0.003624381104637875,-0.34596134346882973,null],\"type\":\"scatter\"},{\"hoverinfo\":\"text\",\"marker\":{\"colorscale\":[[0.0,\"rgb(255,255,217)\"],[0.125,\"rgb(237,248,177)\"],[0.25,\"rgb(199,233,180)\"],[0.375,\"rgb(127,205,187)\"],[0.5,\"rgb(65,182,196)\"],[0.625,\"rgb(29,145,192)\"],[0.75,\"rgb(34,94,168)\"],[0.875,\"rgb(37,52,148)\"],[1.0,\"rgb(8,29,88)\"]],\"showscale\":true,\"size\":10},\"mode\":\"markers\",\"x\":[-0.4034370502620774,-0.008181671457711774,0.44958821811957317,0.5278346177489097,0.6026743580580256,0.7310926532687008,0.5733081159305119,0.0993418586841269,-0.669325631140765,-0.25151807167160845,0.15332909338710404,-0.5049881663063022,0.40753630865476714,0.24909090476177173,-0.7944285618387884,-0.41714616647131686,0.46426359195787426,0.39486272860591376,0.23127304464035742,-0.3576548163474111,-0.36763251891090304,0.5893464147750339,-0.10497337587621819,0.35750049368013337,0.6586358492974057,0.47870894773026285,0.005474077381833248,-0.9653994705644512,-0.07342229228529826,0.07129854210053976,-0.7603900398240505,0.07046417834692978,0.21385337986754138,0.760587416441144,0.6753935701255249,-0.38639138193876327,0.9677567979045548,-0.8575220370136977,-0.9235731505565451,-0.7146606607292616,0.9121431472137973,0.010495891881098085,0.5851488604657441,-0.7494546780396035,-0.8045730789096385,0.4076768196620785,0.512326512242839,0.4033309479391613,-0.09052582945490967,0.13840805975333542,-0.12847375482287884,-0.5722230759779425,0.20792519044681998,0.40412654803408266,-0.9288927328659283,-0.20659551872275078,0.5322328394157567,-0.8960170336726451,-0.8052547603429696,0.7499514604657336,0.7852011751325657,0.6764863767400583,0.9852395417650137,-0.6542815314836373,-0.7171716471806581,-0.08057188684055475,-0.2638085598914914,-0.24156447418998905,0.5171231683465777,-0.06470998916718113,-0.548054064135758,0.3763673619897109,0.753822475472584,-0.5445163040391808,0.3646601261521272,-0.28090393261875174,0.7777385707314092,0.5045303544274043,-0.8551826575877859,0.8269400948449793,0.3264268402621709,-0.6849418091457817,0.5718906083569345,-0.175896915070466,0.29755787368069636,-0.5106564505212351,0.1945678804984531,0.5613288703525643,-0.6745974341783187,-0.8015446652618959,0.5217357782965166,0.22749442679215257,-0.9880191939939834,0.5826656128862332,-0.7153510151326241,-0.4630561802821464,-0.8504733217852191,0.6783158143878847,0.976570621619479,-0.6892952914430733,0.4620803431553621,-0.5410395533571847,0.4528742042458244,-0.3326608494836017,-0.5316504740815661,-0.3056834124292071,0.30270538358613186,-0.4464159196653296,0.23095153724494466,-0.23230486130744396,0.5954880051087659,-0.006563863279184272,0.031507859674828595,-0.7789010815162595,0.10988480100596322,0.04674063706092074,-0.6211038054352389,0.33080690873422747,0.12322442386042536,0.799987429013715,0.8179343168795051,-0.7484789968069678,-0.21667233446560344,0.12997127955755286,0.7027011798339358,0.9682871448590226,-0.22572067991960415,-0.2608532136311858,-0.3976316551557028,-0.42850670431383975,-0.6545128967913976,-0.11169609898418983,-0.48986439325843006,-0.8544081368844607,0.46072356462789354,0.0175572148595751,-0.9217385725366078,0.7362228388492371,-0.23815539804344782,0.21640495035251248,-0.23844119891646942,-0.3052843989057768,-0.20112876679162067,-0.7970216124068902,-0.37190833646389576,-0.5247897596699533,-0.5931310349589506,-0.9609910454734274,0.9728958919927327,-0.7555364615028805,0.057002783801539954,-0.30309358377724427,-0.03504336821311154,0.7239661280477591,0.6150948743230005,-0.09247181209503219,0.6584498355745007,-0.4776678350655167,0.25830518661250973,-0.1283337092949291,-0.7277060284065648,-0.37897106860099505,-0.31467144906572664,-0.9521544991600378,0.5846592398406809,0.004929940170473779,0.8217661030079503,0.6856334861848746,0.7631499553677884,0.42077932487585,-0.10815127738479369,0.16934378430614452,0.9148205704983995,0.325194398161852,-0.674505455730014,0.6435816493467807,-0.21711744720535894,0.5498454754407484,-0.23610005370405002,0.730031960410036,-0.2798884346776751,0.12939800636392385,-0.3552283310919404,-0.813761039954023,-0.5435645199537265,0.8282106791235326,0.7188199258565117,0.15225872401289564,0.8438825292408805,0.7459406900927327,-0.5804706380488011,0.35737771693397846,0.3034708032864298,-0.09493350739096895,0.05229960648229263,-0.41445636018602605,0.3303214594734806,0.2381289505168593,-0.6828399540034644,-0.6298994567526746,-0.6008440448989514,-0.4704654196743978,-0.05635277320645177,0.0678445395097845,0.2988139439944781,0.09798009822271139,0.8138800200259606,-0.4421729546962597,-0.41860964863331257,-0.39653921394646263,0.20584969938012776,0.5075212572127662,0.49215659325352096,-0.7760629867128148,0.003562799562888541,-0.5962144232927087,-0.19350998299202082,-0.5814227449506192,-0.3221719017778756,0.9097742150341209,-0.6602249793816366,-0.008594085844102001,0.21947547727720787,0.6268046587737856,0.7271381666732459,-0.16198381300998263,-0.5007125906682761,-0.8602118065253096,0.8934080640833643,0.6357624228008312,0.5409788743326976,-0.5603594880521663,-0.7284774298296046,0.8643948318273565,0.40325926272234935,-1.0,0.7922291182619451,-0.0389305570056065,0.12238740129989506,0.32059477159968947,-0.9140391989157155,0.8720748886722717,-0.6094168296760967,0.032888268953421534,-0.10006183109076845,0.9370588643021477,0.4297892064658924,-0.4422542282708416,-0.16073108755364449,-0.5940232961322146,0.8784302602040981,0.8735484319815452,0.3927530738130543,-0.15795924161650915,0.19123638730152315,-0.4666329985814036,-0.3358592394619619,-0.6341263625574274,0.2157003001594241,0.6396097511203807,0.514804370078598,-0.3432430668105002,-0.8688689080345108,-0.8734831082832512,0.8812611755030996,-0.7319228938172264,0.3474612642377238,0.702040637898424,-0.5527543006873616,-0.3570779182066553,-0.6405475942649639,-0.49060626867712176,-0.9063024481678088,0.9165735175114238,0.41759767258016195,0.5247813743358161,0.23901908758325707,-0.48946205096553375,0.3024679267996956,-0.14838730802426964,0.604586178501836,-0.8240583463871198],\"y\":[0.9019946372380064,-0.003624381104637875,0.7171883859623281,0.2657505989296438,0.5226348970726491,0.6478769404832238,-0.17594025823592704,0.46676473037562377,0.2584480783990096,-0.8909921836148982,0.8279875262396328,-0.41632221579918355,-0.5153286624213677,0.9588593618943851,-0.23984142949384796,0.31097046403136847,0.34862568633609015,-0.907541475049062,0.8176582651690002,-0.9238477254922934,-0.17219624312906257,0.3934023781589279,-0.9736966825905246,0.658027236336419,-0.5286413317568228,0.8512535765241326,-0.9761479076881726,-0.20988466081990828,0.7197920787339502,-0.9156893945298943,-0.6298696560231113,-0.44242641706565355,-0.21405633193167203,0.39206425313104326,0.7024623249871396,-0.3178861793452262,0.22846393620302644,-0.4298718092121605,0.2921116356396218,0.6742803218655888,-0.22733505016015446,0.6724124937373618,-0.4601033983858658,0.49989137906708025,-0.08344322120390732,-0.8466945276083166,0.4567133637304345,0.7837308583231603,0.9172971431732673,-0.8489041742894573,0.8179235968849542,0.7887140689821296,0.40100888335051776,0.9034480583975983,-0.133052641221626,0.6635429795999629,0.7154443581811841,-0.25747120108359095,0.33077218124019436,0.570819280056247,-0.5950926494590629,0.4732594858743583,-0.04861441682662525,-0.21763656635886944,0.1589276567221952,-0.9012733234756053,0.084924792148966,-0.7830902849861812,-0.08842331441070683,-0.7546266570974918,-0.8164342222959976,-0.6315692409543866,-0.15648794293311163,0.38533452508284716,0.2512288705008454,-0.5711221744995114,0.19303328898474856,0.5567749476141894,0.4903034269883997,-0.34911562908467014,0.36280502209487003,-0.3777691655955638,-0.3574824056281571,-0.5706976066639374,-0.545120771432589,0.5984723321241119,-0.3572067750611162,-0.6882707604339425,-0.7309567705574923,0.5830851039326341,0.633112996556999,-0.8712306719548027,-0.07696492674971776,0.1480607021179605,0.5870139142462131,-0.2555534134688956,-0.1773434504880802,-0.3920579328989165,-0.17111552251116563,-0.048263107910407346,-0.39246467268492435,0.2825762449566553,-0.7717289741521115,0.8356348168981582,0.6819474621825412,-0.4798097453538254,-0.9118173130927033,-0.6227844300830817,0.678079813887467,0.5597195019606018,-0.5959309791381785,0.9879857101630574,-0.7922404992019838,0.24789079012175777,0.9829335245833749,-0.5557559522211932,0.44547415509577554,-0.41694135430276724,-0.9761472892258675,-0.08471320272903478,-0.5152604251688111,0.02555454997548401,-0.675833460990784,0.6884196695577014,-0.6730046321339338,0.03771829597064278,0.30436771908717497,-0.35399769206321147,-0.8381227051268249,0.6229534867341193,0.07541543130528716,0.5085122863824759,0.07844344824940612,-0.017841761788001398,-0.7049648848607639,0.9262414123877709,-0.34537356608862013,-0.2456508546319911,0.44235991466197533,-0.6984552041631319,0.8675500253280116,0.6407684541604849,0.9311503287273276,0.12148509445205123,0.00534499874302994,0.5056783198604624,-0.3286130159912288,0.2144040422049167,0.12462690723295113,-0.44082642782032894,0.7648143196939182,0.9344423002968424,-0.3650238757712977,-0.4669799169740699,0.7557815308422215,0.20548866108372965,0.34046912386625117,-0.8405589802831376,0.14478968432488773,0.9830836149461615,-0.14769018647381554,0.7175683356505376,-0.8420907705573107,0.006982208945382126,-0.7839468379228856,-0.6826998976326324,0.5345252078119406,-0.08824690686651744,0.4777065732220502,0.003883632260033701,0.6139610445680884,0.9248672364228177,0.3110674643735183,-0.8021907716357505,-0.5909898695299334,-0.7238260015554411,-0.9661507806336159,0.8083568037761453,-0.12690340347876655,0.01306176650886096,0.7602647538934457,-0.7511477912410721,-0.63879767848374,0.4205122891518937,-0.6134393596991905,-0.22525794411910027,-0.5920224790315062,0.2521423099870406,-0.4460633094141072,-0.3363681088345983,0.0039695170698145045,-0.11702820337355085,0.7427173710945133,-0.6465559893963319,-0.23640890944481466,-0.7361677772239726,0.8301548649028705,-0.010821212404781724,-0.5140671569053136,0.540179811586531,-0.44086444844973044,-0.08325894137191313,-0.5184584597586323,0.8570668279495876,0.901028939307699,-0.6441419644144536,0.3169640036817177,-0.5249510645624255,0.793016767538695,-0.4259801634581522,-0.5974127856135985,-0.5106591196205043,-0.6087583595280659,-0.5315979694189507,0.5481818603929831,0.1753321988703282,0.761523862803303,-0.7379121438479133,-0.734786100634611,-0.3867721192044443,0.3416609868685279,-0.8751462157981013,0.5568381572515868,0.2276311274288511,0.2650531923874802,-0.4444871493535177,-0.7125275620110115,-0.5180325435877767,0.13234477172114495,0.6128681695336626,0.061965425645395124,-0.5256038735943656,0.41392754886747524,0.031064583657669224,0.5840865380474937,0.07543565852974615,0.0920282831504445,0.8318314678679617,0.5897359075442669,-0.7028294084553941,0.14909127958217644,0.22747648723261024,0.6441460744252443,0.3432822139580536,0.3804978291333855,-0.30369090986499925,0.1403283626255705,0.45328876472988083,-0.27296273075918387,-0.11240269526093563,0.3843878687328907,0.46100016992373194,0.4553616738106884,-0.8698754045897471,-0.48481064297562854,0.19112965519531055,0.21361107145125313,-0.6609138800839082,-0.9564361743506499,-0.254465316369813,-0.8420091763451776,0.4042663994839127,0.22396398763051634,0.06994805863581417,-0.04531628705287607,-0.30513859048264574,-0.31645744328461367,0.11783712253012643,-0.21458433005670324,0.5304723133253,0.7310317225972902,0.8467976639089945,0.37912781852136596,-0.11709030982506016,-0.21914913196031935,-0.2732922971885696,-0.7829450347829197,0.757108452233248,0.516743376948311,-0.7708205512283541,-0.012629832727635808,-0.34596134346882973],\"type\":\"scatter\"}],                        {\"hovermode\":\"closest\",\"margin\":{\"b\":0,\"l\":0,\"r\":0,\"t\":0},\"showlegend\":false,\"template\":{\"data\":{\"histogram2dcontour\":[{\"type\":\"histogram2dcontour\",\"colorbar\":{\"outlinewidth\":0,\"ticks\":\"\"},\"colorscale\":[[0.0,\"#0d0887\"],[0.1111111111111111,\"#46039f\"],[0.2222222222222222,\"#7201a8\"],[0.3333333333333333,\"#9c179e\"],[0.4444444444444444,\"#bd3786\"],[0.5555555555555556,\"#d8576b\"],[0.6666666666666666,\"#ed7953\"],[0.7777777777777778,\"#fb9f3a\"],[0.8888888888888888,\"#fdca26\"],[1.0,\"#f0f921\"]]}],\"choropleth\":[{\"type\":\"choropleth\",\"colorbar\":{\"outlinewidth\":0,\"ticks\":\"\"}}],\"histogram2d\":[{\"type\":\"histogram2d\",\"colorbar\":{\"outlinewidth\":0,\"ticks\":\"\"},\"colorscale\":[[0.0,\"#0d0887\"],[0.1111111111111111,\"#46039f\"],[0.2222222222222222,\"#7201a8\"],[0.3333333333333333,\"#9c179e\"],[0.4444444444444444,\"#bd3786\"],[0.5555555555555556,\"#d8576b\"],[0.6666666666666666,\"#ed7953\"],[0.7777777777777778,\"#fb9f3a\"],[0.8888888888888888,\"#fdca26\"],[1.0,\"#f0f921\"]]}],\"heatmap\":[{\"type\":\"heatmap\",\"colorbar\":{\"outlinewidth\":0,\"ticks\":\"\"},\"colorscale\":[[0.0,\"#0d0887\"],[0.1111111111111111,\"#46039f\"],[0.2222222222222222,\"#7201a8\"],[0.3333333333333333,\"#9c179e\"],[0.4444444444444444,\"#bd3786\"],[0.5555555555555556,\"#d8576b\"],[0.6666666666666666,\"#ed7953\"],[0.7777777777777778,\"#fb9f3a\"],[0.8888888888888888,\"#fdca26\"],[1.0,\"#f0f921\"]]}],\"heatmapgl\":[{\"type\":\"heatmapgl\",\"colorbar\":{\"outlinewidth\":0,\"ticks\":\"\"},\"colorscale\":[[0.0,\"#0d0887\"],[0.1111111111111111,\"#46039f\"],[0.2222222222222222,\"#7201a8\"],[0.3333333333333333,\"#9c179e\"],[0.4444444444444444,\"#bd3786\"],[0.5555555555555556,\"#d8576b\"],[0.6666666666666666,\"#ed7953\"],[0.7777777777777778,\"#fb9f3a\"],[0.8888888888888888,\"#fdca26\"],[1.0,\"#f0f921\"]]}],\"contourcarpet\":[{\"type\":\"contourcarpet\",\"colorbar\":{\"outlinewidth\":0,\"ticks\":\"\"}}],\"contour\":[{\"type\":\"contour\",\"colorbar\":{\"outlinewidth\":0,\"ticks\":\"\"},\"colorscale\":[[0.0,\"#0d0887\"],[0.1111111111111111,\"#46039f\"],[0.2222222222222222,\"#7201a8\"],[0.3333333333333333,\"#9c179e\"],[0.4444444444444444,\"#bd3786\"],[0.5555555555555556,\"#d8576b\"],[0.6666666666666666,\"#ed7953\"],[0.7777777777777778,\"#fb9f3a\"],[0.8888888888888888,\"#fdca26\"],[1.0,\"#f0f921\"]]}],\"surface\":[{\"type\":\"surface\",\"colorbar\":{\"outlinewidth\":0,\"ticks\":\"\"},\"colorscale\":[[0.0,\"#0d0887\"],[0.1111111111111111,\"#46039f\"],[0.2222222222222222,\"#7201a8\"],[0.3333333333333333,\"#9c179e\"],[0.4444444444444444,\"#bd3786\"],[0.5555555555555556,\"#d8576b\"],[0.6666666666666666,\"#ed7953\"],[0.7777777777777778,\"#fb9f3a\"],[0.8888888888888888,\"#fdca26\"],[1.0,\"#f0f921\"]]}],\"mesh3d\":[{\"type\":\"mesh3d\",\"colorbar\":{\"outlinewidth\":0,\"ticks\":\"\"}}],\"scatter\":[{\"fillpattern\":{\"fillmode\":\"overlay\",\"size\":10,\"solidity\":0.2},\"type\":\"scatter\"}],\"parcoords\":[{\"type\":\"parcoords\",\"line\":{\"colorbar\":{\"outlinewidth\":0,\"ticks\":\"\"}}}],\"scatterpolargl\":[{\"type\":\"scatterpolargl\",\"marker\":{\"colorbar\":{\"outlinewidth\":0,\"ticks\":\"\"}}}],\"bar\":[{\"error_x\":{\"color\":\"#2a3f5f\"},\"error_y\":{\"color\":\"#2a3f5f\"},\"marker\":{\"line\":{\"color\":\"#E5ECF6\",\"width\":0.5},\"pattern\":{\"fillmode\":\"overlay\",\"size\":10,\"solidity\":0.2}},\"type\":\"bar\"}],\"scattergeo\":[{\"type\":\"scattergeo\",\"marker\":{\"colorbar\":{\"outlinewidth\":0,\"ticks\":\"\"}}}],\"scatterpolar\":[{\"type\":\"scatterpolar\",\"marker\":{\"colorbar\":{\"outlinewidth\":0,\"ticks\":\"\"}}}],\"histogram\":[{\"marker\":{\"pattern\":{\"fillmode\":\"overlay\",\"size\":10,\"solidity\":0.2}},\"type\":\"histogram\"}],\"scattergl\":[{\"type\":\"scattergl\",\"marker\":{\"colorbar\":{\"outlinewidth\":0,\"ticks\":\"\"}}}],\"scatter3d\":[{\"type\":\"scatter3d\",\"line\":{\"colorbar\":{\"outlinewidth\":0,\"ticks\":\"\"}},\"marker\":{\"colorbar\":{\"outlinewidth\":0,\"ticks\":\"\"}}}],\"scattermapbox\":[{\"type\":\"scattermapbox\",\"marker\":{\"colorbar\":{\"outlinewidth\":0,\"ticks\":\"\"}}}],\"scatterternary\":[{\"type\":\"scatterternary\",\"marker\":{\"colorbar\":{\"outlinewidth\":0,\"ticks\":\"\"}}}],\"scattercarpet\":[{\"type\":\"scattercarpet\",\"marker\":{\"colorbar\":{\"outlinewidth\":0,\"ticks\":\"\"}}}],\"carpet\":[{\"aaxis\":{\"endlinecolor\":\"#2a3f5f\",\"gridcolor\":\"white\",\"linecolor\":\"white\",\"minorgridcolor\":\"white\",\"startlinecolor\":\"#2a3f5f\"},\"baxis\":{\"endlinecolor\":\"#2a3f5f\",\"gridcolor\":\"white\",\"linecolor\":\"white\",\"minorgridcolor\":\"white\",\"startlinecolor\":\"#2a3f5f\"},\"type\":\"carpet\"}],\"table\":[{\"cells\":{\"fill\":{\"color\":\"#EBF0F8\"},\"line\":{\"color\":\"white\"}},\"header\":{\"fill\":{\"color\":\"#C8D4E3\"},\"line\":{\"color\":\"white\"}},\"type\":\"table\"}],\"barpolar\":[{\"marker\":{\"line\":{\"color\":\"#E5ECF6\",\"width\":0.5},\"pattern\":{\"fillmode\":\"overlay\",\"size\":10,\"solidity\":0.2}},\"type\":\"barpolar\"}],\"pie\":[{\"automargin\":true,\"type\":\"pie\"}]},\"layout\":{\"autotypenumbers\":\"strict\",\"colorway\":[\"#636efa\",\"#EF553B\",\"#00cc96\",\"#ab63fa\",\"#FFA15A\",\"#19d3f3\",\"#FF6692\",\"#B6E880\",\"#FF97FF\",\"#FECB52\"],\"font\":{\"color\":\"#2a3f5f\"},\"hovermode\":\"closest\",\"hoverlabel\":{\"align\":\"left\"},\"paper_bgcolor\":\"white\",\"plot_bgcolor\":\"#E5ECF6\",\"polar\":{\"bgcolor\":\"#E5ECF6\",\"angularaxis\":{\"gridcolor\":\"white\",\"linecolor\":\"white\",\"ticks\":\"\"},\"radialaxis\":{\"gridcolor\":\"white\",\"linecolor\":\"white\",\"ticks\":\"\"}},\"ternary\":{\"bgcolor\":\"#E5ECF6\",\"aaxis\":{\"gridcolor\":\"white\",\"linecolor\":\"white\",\"ticks\":\"\"},\"baxis\":{\"gridcolor\":\"white\",\"linecolor\":\"white\",\"ticks\":\"\"},\"caxis\":{\"gridcolor\":\"white\",\"linecolor\":\"white\",\"ticks\":\"\"}},\"coloraxis\":{\"colorbar\":{\"outlinewidth\":0,\"ticks\":\"\"}},\"colorscale\":{\"sequential\":[[0.0,\"#0d0887\"],[0.1111111111111111,\"#46039f\"],[0.2222222222222222,\"#7201a8\"],[0.3333333333333333,\"#9c179e\"],[0.4444444444444444,\"#bd3786\"],[0.5555555555555556,\"#d8576b\"],[0.6666666666666666,\"#ed7953\"],[0.7777777777777778,\"#fb9f3a\"],[0.8888888888888888,\"#fdca26\"],[1.0,\"#f0f921\"]],\"sequentialminus\":[[0.0,\"#0d0887\"],[0.1111111111111111,\"#46039f\"],[0.2222222222222222,\"#7201a8\"],[0.3333333333333333,\"#9c179e\"],[0.4444444444444444,\"#bd3786\"],[0.5555555555555556,\"#d8576b\"],[0.6666666666666666,\"#ed7953\"],[0.7777777777777778,\"#fb9f3a\"],[0.8888888888888888,\"#fdca26\"],[1.0,\"#f0f921\"]],\"diverging\":[[0,\"#8e0152\"],[0.1,\"#c51b7d\"],[0.2,\"#de77ae\"],[0.3,\"#f1b6da\"],[0.4,\"#fde0ef\"],[0.5,\"#f7f7f7\"],[0.6,\"#e6f5d0\"],[0.7,\"#b8e186\"],[0.8,\"#7fbc41\"],[0.9,\"#4d9221\"],[1,\"#276419\"]]},\"xaxis\":{\"gridcolor\":\"white\",\"linecolor\":\"white\",\"ticks\":\"\",\"title\":{\"standoff\":15},\"zerolinecolor\":\"white\",\"automargin\":true,\"zerolinewidth\":2},\"yaxis\":{\"gridcolor\":\"white\",\"linecolor\":\"white\",\"ticks\":\"\",\"title\":{\"standoff\":15},\"zerolinecolor\":\"white\",\"automargin\":true,\"zerolinewidth\":2},\"scene\":{\"xaxis\":{\"backgroundcolor\":\"#E5ECF6\",\"gridcolor\":\"white\",\"linecolor\":\"white\",\"showbackground\":true,\"ticks\":\"\",\"zerolinecolor\":\"white\",\"gridwidth\":2},\"yaxis\":{\"backgroundcolor\":\"#E5ECF6\",\"gridcolor\":\"white\",\"linecolor\":\"white\",\"showbackground\":true,\"ticks\":\"\",\"zerolinecolor\":\"white\",\"gridwidth\":2},\"zaxis\":{\"backgroundcolor\":\"#E5ECF6\",\"gridcolor\":\"white\",\"linecolor\":\"white\",\"showbackground\":true,\"ticks\":\"\",\"zerolinecolor\":\"white\",\"gridwidth\":2}},\"shapedefaults\":{\"line\":{\"color\":\"#2a3f5f\"}},\"annotationdefaults\":{\"arrowcolor\":\"#2a3f5f\",\"arrowhead\":0,\"arrowwidth\":1},\"geo\":{\"bgcolor\":\"white\",\"landcolor\":\"#E5ECF6\",\"subunitcolor\":\"white\",\"showland\":true,\"showlakes\":true,\"lakecolor\":\"white\"},\"title\":{\"x\":0.05},\"mapbox\":{\"style\":\"light\"}}}},                        {\"responsive\": true}                    ).then(function(){\n",
              "                            \n",
              "var gd = document.getElementById('9a3b3b40-04e6-43ca-9899-fd165e54eb73');\n",
              "var x = new MutationObserver(function (mutations, observer) {{\n",
              "        var display = window.getComputedStyle(gd).display;\n",
              "        if (!display || display === 'none') {{\n",
              "            console.log([gd, 'removed!']);\n",
              "            Plotly.purge(gd);\n",
              "            observer.disconnect();\n",
              "        }}\n",
              "}});\n",
              "\n",
              "// Listen for the removal of the full notebook cells\n",
              "var notebookContainer = gd.closest('#notebook-container');\n",
              "if (notebookContainer) {{\n",
              "    x.observe(notebookContainer, {childList: true});\n",
              "}}\n",
              "\n",
              "// Listen for the clearing of the current output cell\n",
              "var outputEl = gd.closest('.output');\n",
              "if (outputEl) {{\n",
              "    x.observe(outputEl, {childList: true});\n",
              "}}\n",
              "\n",
              "                        })                };                            </script>        </div>\n",
              "</body>\n",
              "</html>"
            ]
          },
          "metadata": {}
        }
      ]
    },
    {
      "cell_type": "markdown",
      "source": [
        "5.2 Topic Modeling"
      ],
      "metadata": {
        "id": "jv4g9P7DwCTg"
      }
    },
    {
      "cell_type": "code",
      "source": [
        "nltk.download('stopwords')\n",
        "\n",
        "def preprocess_text(text):\n",
        "    tokenizer = RegexpTokenizer(r'\\w+')\n",
        "    tokens = tokenizer.tokenize(text.lower())\n",
        "    filtered_tokens = [token for token in tokens if token not in stopwords.words('english')]\n",
        "    return filtered_tokens\n",
        "\n",
        "def perform_topic_modeling(text, num_topics=5, passes=15):\n",
        "    documents = text.split('\\n')\n",
        "    processed_docs = [preprocess_text(doc) for doc in documents if doc.strip()]\n",
        "    dictionary = corpora.Dictionary(processed_docs)\n",
        "    corpus = [dictionary.doc2bow(doc) for doc in processed_docs]\n",
        "    lda_model = LdaModel(corpus, num_topics=num_topics, id2word=dictionary, passes=passes)\n",
        "    return lda_model.print_topics(num_words=4)\n",
        "\n",
        "topics = perform_topic_modeling(extracted_text)\n",
        "\n",
        "# Print each topic line by line\n",
        "for i, topic in enumerate(topics):\n",
        "    print(f\"Topic {i+1}:\")\n",
        "    words = topic[1].split('+')\n",
        "    for word in words:\n",
        "        print(f\" - {word.strip()}\")\n",
        "    print()"
      ],
      "metadata": {
        "colab": {
          "base_uri": "https://localhost:8080/"
        },
        "id": "dI8nBGBPwC-X",
        "outputId": "8b9ad4c1-dc6d-4a42-b5de-110e674502c2"
      },
      "execution_count": 10,
      "outputs": [
        {
          "output_type": "stream",
          "name": "stderr",
          "text": [
            "[nltk_data] Downloading package stopwords to /root/nltk_data...\n",
            "[nltk_data]   Package stopwords is already up-to-date!\n"
          ]
        },
        {
          "output_type": "stream",
          "name": "stdout",
          "text": [
            "Topic 1:\n",
            " - 0.052*\"community\"\n",
            " - 0.038*\"civic\"\n",
            " - 0.029*\"within\"\n",
            " - 0.028*\"honors\"\n",
            "\n",
            "Topic 2:\n",
            " - 0.044*\"program\"\n",
            " - 0.034*\"civic\"\n",
            " - 0.031*\"honors\"\n",
            " - 0.023*\"community\"\n",
            "\n",
            "Topic 3:\n",
            " - 0.027*\"civic\"\n",
            " - 0.017*\"new\"\n",
            " - 0.017*\"york\"\n",
            " - 0.016*\"engagement\"\n",
            "\n",
            "Topic 4:\n",
            " - 0.071*\"community\"\n",
            " - 0.029*\"civic\"\n",
            " - 0.028*\"program\"\n",
            " - 0.024*\"honors\"\n",
            "\n",
            "Topic 5:\n",
            " - 0.011*\"technology\"\n",
            " - 0.008*\"future\"\n",
            " - 0.007*\"database\"\n",
            " - 0.007*\"people\"\n",
            "\n"
          ]
        }
      ]
    }
  ]
}