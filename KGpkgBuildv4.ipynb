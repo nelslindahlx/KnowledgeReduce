{
  "nbformat": 4,
  "nbformat_minor": 0,
  "metadata": {
    "colab": {
      "provenance": [],
      "toc_visible": true,
      "authorship_tag": "ABX9TyP7T0UTdjgN/XVOapwqfYJw",
      "include_colab_link": true
    },
    "kernelspec": {
      "name": "python3",
      "display_name": "Python 3"
    },
    "language_info": {
      "name": "python"
    }
  },
  "cells": [
    {
      "cell_type": "markdown",
      "metadata": {
        "id": "view-in-github",
        "colab_type": "text"
      },
      "source": [
        "<a href=\"https://colab.research.google.com/github/nelslindahlx/KnowledgeReduce/blob/main/KGpkgBuildv4.ipynb\" target=\"_parent\"><img src=\"https://colab.research.google.com/assets/colab-badge.svg\" alt=\"Open In Colab\"/></a>"
      ]
    },
    {
      "cell_type": "markdown",
      "source": [
        "# Code Summary Building a Knowledge Graph Package in Python\n",
        "\n",
        "This notebook provides a comprehensive guide to creating a Python package for managing knowledge graphs. It is designed to walk you through the complete process of package creation, from initial setup to final packaging. The notebook is structured into seven distinct steps, each focusing on a critical aspect of the package development process.\n",
        "\n",
        "### Summary of Steps and Code:\n",
        "\n",
        "#### Step 1: Package Structure\n",
        "- Introduction to the directory and file structure necessary for a Python package. This step focuses on the conceptual layout rather than actual code.\n",
        "\n",
        "#### Step 2: Initial Python Files\n",
        "- **Importing Dependencies**: We start by importing essential Python modules like `os`.\n",
        "- **Package Initialization**: Creation of the `__init__.py` file to designate the `knowledge_graph_pkg` as a Python package.\n",
        "- **Core Module**: Development of the `core.py` file, which forms the backbone of the package, containing the primary functionality of the knowledge graph.\n",
        "- **Test Suite Setup**: Establishment of a testing framework with an `__init__.py` file and a `test_core.py` file in the `tests` subdirectory, ensuring robustness and reliability of our package.\n",
        "\n",
        "#### Step 3: Essential Package Files\n",
        "- **Setup Script (`setup.py`)**: Crafting a `setup.py` file, which includes all necessary package metadata and installation instructions.\n",
        "- **README Documentation (`README.md`)**: Writing a `README.md` file to provide an overview and guidelines for using the package.\n",
        "- **License Agreement (`LICENSE`)**: Adding a `LICENSE` file to define the usage rights and restrictions for the package.\n",
        "\n",
        "#### Step 4: Packaging\n",
        "- **Zipping the Package**: Instructions on how to compress the package contents into a `.zip` file, making it ready for distribution.\n",
        "\n",
        "### Step 5: Download Preparation\n",
        "- **Download Trigger**: Code snippet for enabling the download of the zipped package in Google Colab.\n",
        "- **Suggested Update**: Mention how to handle this process outside of Google Colab.\n",
        "\n",
        "### Step 6: Make a Git Repository\n",
        "- **Instructions**: Navigating to the package directory and initializing a Git repository.\n",
        "- **Suggested Update**: Include steps for committing initial files and pushing to a remote repository.\n",
        "\n",
        "### Step 7: Download the repo from GitHub\n",
        "- **Process**: Cloning a GitHub repository and installing the package using `pip`.\n",
        "- **Suggested Update**: Provide guidance on versioning and releasing the package on GitHub.\n",
        "\n",
        "Each step in this notebook is well-documented with markdown explanations, followed by practical code implementations. This structured approach not only facilitates the understanding of Python package creation but also serves as a template for building and distributing Python-based software.\n"
      ],
      "metadata": {
        "id": "KsovRvnp25jk"
      }
    },
    {
      "cell_type": "markdown",
      "source": [
        "# Step 1: Create the Package Structure"
      ],
      "metadata": {
        "id": "ENy9YFVp0E6q"
      }
    },
    {
      "cell_type": "code",
      "execution_count": 1,
      "metadata": {
        "id": "mQDtQoEF0ENR"
      },
      "outputs": [],
      "source": [
        "import os\n",
        "\n",
        "# Create main package directory and subdirectories\n",
        "os.makedirs('knowledge_graph_pkg', exist_ok=True)\n",
        "os.makedirs('knowledge_graph_pkg/tests', exist_ok=True)"
      ]
    },
    {
      "cell_type": "markdown",
      "source": [
        "# Step 2: Create Initial Python Files"
      ],
      "metadata": {
        "id": "_0N3OHCV0dDQ"
      }
    },
    {
      "cell_type": "markdown",
      "source": [
        "Package Initialization and Core Module:"
      ],
      "metadata": {
        "id": "kxFzFe3N0me6"
      }
    },
    {
      "cell_type": "code",
      "source": [
        "%%writefile knowledge_graph_pkg/__init__.py\n",
        "from .core import KnowledgeGraph\n",
        "# This file now imports the KnowledgeGraph class from the core module"
      ],
      "metadata": {
        "id": "Br-7DRpk0hLG",
        "colab": {
          "base_uri": "https://localhost:8080/"
        },
        "outputId": "64e6630c-4f13-4e4e-ef57-dd8955e12e52"
      },
      "execution_count": 2,
      "outputs": [
        {
          "output_type": "stream",
          "name": "stdout",
          "text": [
            "Writing knowledge_graph_pkg/__init__.py\n"
          ]
        }
      ]
    },
    {
      "cell_type": "markdown",
      "source": [
        "Core Module with Knowledge Schema:"
      ],
      "metadata": {
        "id": "BrRF9GYl3cZ4"
      }
    },
    {
      "cell_type": "code",
      "source": [
        "%%writefile knowledge_graph_pkg/core.py\n",
        "\"\"\"\n",
        "Core functionality of the knowledge graph package.\n",
        "This module provides the basic knowledge schema and features for creating and managing knowledge graphs.\n",
        "\"\"\"\n",
        "\n",
        "import networkx as nx\n",
        "from datetime import datetime\n",
        "from enum import Enum\n",
        "\n",
        "class ReliabilityRating(Enum):\n",
        "    UNVERIFIED = 1\n",
        "    POSSIBLY_TRUE = 2\n",
        "    LIKELY_TRUE = 3\n",
        "    VERIFIED = 4\n",
        "\n",
        "class KnowledgeGraph:\n",
        "    def __init__(self):\n",
        "        self.graph = nx.DiGraph()\n",
        "\n",
        "    def validate_fact_id(self, fact_id):\n",
        "        if not isinstance(fact_id, str) or not fact_id:\n",
        "            raise ValueError(\"Fact ID must be a non-empty string.\")\n",
        "\n",
        "    def validate_reliability_rating(self, rating):\n",
        "        if not isinstance(rating, ReliabilityRating):\n",
        "            raise ValueError(\"Reliability rating must be an instance of ReliabilityRating Enum.\")\n",
        "\n",
        "    def add_fact(self, fact_id, fact_statement, category, tags, date_recorded, last_updated,\n",
        "                 reliability_rating, source_id, source_title, author_creator,\n",
        "                 publication_date, url_reference, related_facts, contextual_notes,\n",
        "                 access_level, usage_count):\n",
        "        self.validate_fact_id(fact_id)\n",
        "        self.validate_reliability_rating(reliability_rating)\n",
        "        # Additional validations for other parameters can be added here\n",
        "        try:\n",
        "            # Conversion of list and datetime objects to strings for storage\n",
        "            tags_str = ', '.join(tags) if tags else ''\n",
        "            date_recorded_str = date_recorded.isoformat() if isinstance(date_recorded, datetime) else date_recorded\n",
        "            last_updated_str = last_updated.isoformat() if isinstance(last_updated, datetime) else last_updated\n",
        "            publication_date_str = publication_date.isoformat() if isinstance(publication_date, datetime) else publication_date\n",
        "\n",
        "            # Adding fact to the graph\n",
        "            self.graph.add_node(fact_id, fact_statement=fact_statement, category=category,\n",
        "                                tags=tags_str, date_recorded=date_recorded_str, last_updated=last_updated_str,\n",
        "                                reliability_rating=reliability_rating, source_id=source_id, source_title=source_title,\n",
        "                                author_creator=author_creator, publication_date=publication_date_str,\n",
        "                                url_reference=url_reference, related_facts=related_facts, contextual_notes=contextual_notes,\n",
        "                                access_level=access_level, usage_count=usage_count)\n",
        "        except Exception as e:\n",
        "            raise Exception(f\"Error adding fact: {e}\")\n",
        "\n",
        "    def get_fact(self, fact_id):\n",
        "        self.validate_fact_id(fact_id)\n",
        "        if fact_id not in self.graph:\n",
        "            raise ValueError(f\"Fact ID '{fact_id}' not found in the graph.\")\n",
        "        return self.graph.nodes[fact_id]\n",
        "\n",
        "    def update_fact(self, fact_id, **kwargs):\n",
        "        self.validate_fact_id(fact_id)\n",
        "        if fact_id not in self.graph:\n",
        "            raise ValueError(f\"Fact ID '{fact_id}' not found in the graph.\")\n",
        "        try:\n",
        "            for key, value in kwargs.items():\n",
        "                if key in self.graph.nodes[fact_id]:\n",
        "                    self.graph.nodes[fact_id][key] = value\n",
        "                else:\n",
        "                    raise ValueError(f\"Invalid attribute '{key}' for fact update.\")\n",
        "        except Exception as e:\n",
        "            raise Exception(f\"Error updating fact: {e}\")"
      ],
      "metadata": {
        "id": "6jqViQl30iH1",
        "colab": {
          "base_uri": "https://localhost:8080/"
        },
        "outputId": "5c3f2701-0685-4fda-ddc3-e23cd7798e88"
      },
      "execution_count": 3,
      "outputs": [
        {
          "output_type": "stream",
          "name": "stdout",
          "text": [
            "Writing knowledge_graph_pkg/core.py\n"
          ]
        }
      ]
    },
    {
      "cell_type": "markdown",
      "source": [
        "Test Module:"
      ],
      "metadata": {
        "id": "ml8v_0Os0oAO"
      }
    },
    {
      "cell_type": "code",
      "source": [
        "%%writefile knowledge_graph_pkg/tests/__init__.py\n",
        "# This file allows the tests directory to be treated as a package"
      ],
      "metadata": {
        "id": "_gB6tq_r0q-4",
        "colab": {
          "base_uri": "https://localhost:8080/"
        },
        "outputId": "ec433a33-4c26-4fe6-c12f-c25cd76dc84a"
      },
      "execution_count": 4,
      "outputs": [
        {
          "output_type": "stream",
          "name": "stdout",
          "text": [
            "Writing knowledge_graph_pkg/tests/__init__.py\n"
          ]
        }
      ]
    },
    {
      "cell_type": "code",
      "source": [
        "%%writefile knowledge_graph_pkg/tests/test_core.py\n",
        "\"\"\"\n",
        "Tests for the knowledge graph core functionality.\n",
        "\"\"\"\n",
        "\n",
        "import unittest\n",
        "from knowledge_graph_pkg.core import KnowledgeGraph, ReliabilityRating\n",
        "from datetime import datetime\n",
        "\n",
        "class TestKnowledgeGraph(unittest.TestCase):\n",
        "\n",
        "    def setUp(self):\n",
        "        # Setup a KnowledgeGraph instance for each test\n",
        "        self.kg = KnowledgeGraph()\n",
        "\n",
        "    def test_graph_initialization(self):\n",
        "        # Test if the graph is initialized correctly\n",
        "        self.assertIsNotNone(self.kg.graph)\n",
        "        self.assertEqual(len(self.kg.graph.nodes), 0)\n",
        "\n",
        "    def test_adding_and_getting_fact(self):\n",
        "        # Test adding a fact and then retrieving it\n",
        "        fact_id = \"fact1\"\n",
        "        self.kg.add_fact(fact_id, \"The sky is blue\", \"Science\", [\"sky\", \"color\"],\n",
        "                         datetime.now(), datetime.now(),\n",
        "                         ReliabilityRating.VERIFIED, \"source1\", \"Nature Journal\",\n",
        "                         \"Dr. Sky Watcher\", datetime.now(), \"https://example.com/fact1\",\n",
        "                         [], \"Some notes\", \"public\", 5)\n",
        "\n",
        "        fact = self.kg.get_fact(fact_id)\n",
        "        self.assertIsNotNone(fact)\n",
        "        self.assertEqual(fact['fact_statement'], \"The sky is blue\")\n",
        "\n",
        "    def test_fact_quality_score(self):\n",
        "        # Test the quality score calculation\n",
        "        fact_id = \"fact2\"\n",
        "        self.kg.add_fact(fact_id, \"Water boils at 100°C\", \"Science\", [\"water\", \"boiling point\"],\n",
        "                         datetime.now(), datetime.now(),\n",
        "                         ReliabilityRating.VERIFIED, \"source2\", \"Science Daily\",\n",
        "                         \"Dr. H2O\", datetime.now(), \"https://example.com/fact2\",\n",
        "                         [], \"Boiling point at sea level\", \"public\", 10)\n",
        "\n",
        "        fact = self.kg.get_fact(fact_id)\n",
        "        expected_score = 10 * ReliabilityRating.VERIFIED.value + 2 * 10  # Based on your scoring logic\n",
        "        self.assertEqual(fact['quality_score'], expected_score)\n",
        "\n",
        "    # Additional tests can be added here for other functionalities like updating facts, error handling, etc.\n",
        "\n",
        "if __name__ == '__main__':\n",
        "    unittest.main()"
      ],
      "metadata": {
        "id": "IdtMrdAm0tHM",
        "colab": {
          "base_uri": "https://localhost:8080/"
        },
        "outputId": "9c94b30c-d8be-4235-e87b-05300f37792b"
      },
      "execution_count": 5,
      "outputs": [
        {
          "output_type": "stream",
          "name": "stdout",
          "text": [
            "Writing knowledge_graph_pkg/tests/test_core.py\n"
          ]
        }
      ]
    },
    {
      "cell_type": "markdown",
      "source": [
        "# Step 3: Create setup.py, README.md, and LICENSE"
      ],
      "metadata": {
        "id": "UILStPDJ0xmW"
      }
    },
    {
      "cell_type": "markdown",
      "source": [
        "Setup Script:"
      ],
      "metadata": {
        "id": "5fN4X0_U00tp"
      }
    },
    {
      "cell_type": "code",
      "source": [
        "%%writefile knowledge_graph_pkg/setup.py\n",
        "from setuptools import setup, find_packages\n",
        "\n",
        "setup(\n",
        "    name='knowledge_graph_pkg',\n",
        "    version='0.1',\n",
        "    author='Nels Lindahl',\n",
        "    author_email='nels@nelslindahl.com',\n",
        "    description='A Python package for creating and managing portable knowledge graphs',\n",
        "    packages=find_packages(),\n",
        "    install_requires=['requests', 'beautifulsoup4', 'networkx', 'spacy'],\n",
        "    python_requires='>=3.6',\n",
        ")"
      ],
      "metadata": {
        "id": "4etuC5WP01Wm",
        "colab": {
          "base_uri": "https://localhost:8080/"
        },
        "outputId": "4893b57c-4573-456e-bfec-74fb31daf054"
      },
      "execution_count": 6,
      "outputs": [
        {
          "output_type": "stream",
          "name": "stdout",
          "text": [
            "Writing knowledge_graph_pkg/setup.py\n"
          ]
        }
      ]
    },
    {
      "cell_type": "markdown",
      "source": [
        "README File:"
      ],
      "metadata": {
        "id": "ERLQ-17G03wE"
      }
    },
    {
      "cell_type": "code",
      "source": [
        "%%writefile knowledge_graph_pkg/README.md\n",
        "# Knowledge Graph Package\n",
        "\n",
        "This Python package facilitates creating and managing portable knowledge graphs.\n",
        "\n",
        "## Installation\n",
        "pip install knowledge_graph_pkg\n",
        "\n",
        "## Usage\n",
        "from knowledge_graph_pkg import KnowledgeGraph\n",
        "\n",
        "kg = KnowledgeGraph()\n",
        "kg.add_fact('fact1', {'detail': 'Example fact data'})\n",
        "print(kg.get_fact('fact1'))"
      ],
      "metadata": {
        "id": "E5nmnRD807gY",
        "colab": {
          "base_uri": "https://localhost:8080/"
        },
        "outputId": "63481cea-3758-45f1-a0c4-388e06c10c2f"
      },
      "execution_count": 7,
      "outputs": [
        {
          "output_type": "stream",
          "name": "stdout",
          "text": [
            "Writing knowledge_graph_pkg/README.md\n"
          ]
        }
      ]
    },
    {
      "cell_type": "markdown",
      "source": [
        "License file"
      ],
      "metadata": {
        "id": "axh5xrfX0_qI"
      }
    },
    {
      "cell_type": "code",
      "source": [
        "%%writefile knowledge_graph_pkg/LICENSE\n",
        "MIT License\n",
        "\n",
        "Copyright (c) 2023 Nels Lindahl\n",
        "\n",
        "Permission is hereby granted, free of charge, to any person obtaining a copy..."
      ],
      "metadata": {
        "id": "L5QZirRd1AMh",
        "colab": {
          "base_uri": "https://localhost:8080/"
        },
        "outputId": "09a4e0c0-857b-41ab-9248-c47c464e54b2"
      },
      "execution_count": 8,
      "outputs": [
        {
          "output_type": "stream",
          "name": "stdout",
          "text": [
            "Writing knowledge_graph_pkg/LICENSE\n"
          ]
        }
      ]
    },
    {
      "cell_type": "markdown",
      "source": [
        "# Step 4: Zip the Package"
      ],
      "metadata": {
        "id": "HyqbhH6Q1H9E"
      }
    },
    {
      "cell_type": "code",
      "source": [
        "!zip -r knowledge_graph_package.zip knowledge_graph_pkg"
      ],
      "metadata": {
        "id": "OKVFtcSf1JH0",
        "colab": {
          "base_uri": "https://localhost:8080/"
        },
        "outputId": "b8c9938d-48be-4d2d-bb97-033920265bd5"
      },
      "execution_count": 9,
      "outputs": [
        {
          "output_type": "stream",
          "name": "stdout",
          "text": [
            "  adding: knowledge_graph_pkg/ (stored 0%)\n",
            "  adding: knowledge_graph_pkg/LICENSE (deflated 11%)\n",
            "  adding: knowledge_graph_pkg/tests/ (stored 0%)\n",
            "  adding: knowledge_graph_pkg/tests/test_core.py (deflated 63%)\n",
            "  adding: knowledge_graph_pkg/tests/__init__.py (deflated 6%)\n",
            "  adding: knowledge_graph_pkg/README.md (deflated 38%)\n",
            "  adding: knowledge_graph_pkg/core.py (deflated 69%)\n",
            "  adding: knowledge_graph_pkg/__init__.py (deflated 24%)\n",
            "  adding: knowledge_graph_pkg/setup.py (deflated 39%)\n"
          ]
        }
      ]
    },
    {
      "cell_type": "markdown",
      "source": [
        "# Step 5: Trigger the Download"
      ],
      "metadata": {
        "id": "SKTH6Wdb1N-i"
      }
    },
    {
      "cell_type": "code",
      "source": [
        "# Import the files module from google.colab\n",
        "from google.colab import files\n",
        "\n",
        "# Trigger the download which is commented out probably\n",
        "# files.download('knowledge_graph_package.zip')"
      ],
      "metadata": {
        "id": "LuAqIIoS1L7V"
      },
      "execution_count": 10,
      "outputs": []
    },
    {
      "cell_type": "markdown",
      "source": [
        "# Step 6: Make a Git Repository"
      ],
      "metadata": {
        "id": "gPYjGP8T4kNi"
      }
    },
    {
      "cell_type": "code",
      "source": [
        "import os\n",
        "import subprocess\n",
        "\n",
        "# Navigate to the package directory 'knowledge_graph_pkg'\n",
        "os.chdir('knowledge_graph_pkg')\n",
        "\n",
        "# Initialize a Git repository\n",
        "try:\n",
        "    subprocess.run(['git', 'init'], check=True)\n",
        "    print(\".git directory created successfully in 'knowledge_graph_pkg'.\")\n",
        "except subprocess.CalledProcessError as e:\n",
        "    print(f\"Error during Git initialization: {e}\")"
      ],
      "metadata": {
        "id": "3r-JtZ6C8g6z",
        "colab": {
          "base_uri": "https://localhost:8080/"
        },
        "outputId": "25d41c2c-ad79-4b8b-a6c9-8e14892130e3"
      },
      "execution_count": 11,
      "outputs": [
        {
          "output_type": "stream",
          "name": "stdout",
          "text": [
            ".git directory created successfully in 'knowledge_graph_pkg'.\n"
          ]
        }
      ]
    },
    {
      "cell_type": "markdown",
      "source": [
        "# Step 7: Download the repo from my Github"
      ],
      "metadata": {
        "id": "OzuJ1O_u9O2F"
      }
    },
    {
      "cell_type": "code",
      "source": [
        "import subprocess\n",
        "import sys\n",
        "\n",
        "# URL of the GitHub repository\n",
        "repo_url = \"https://github.com/nelslindahlx/KnowledgeReduce.git\"\n",
        "\n",
        "# Clone the repository\n",
        "subprocess.run([\"git\", \"clone\", repo_url], check=True)\n",
        "\n",
        "# Path to the package inside the cloned repository\n",
        "package_path = \"KnowledgeReduce/knowledge_graph_pkg\"\n",
        "\n",
        "# Install the package using pip\n",
        "subprocess.run([sys.executable, \"-m\", \"pip\", \"install\", package_path], check=True)\n"
      ],
      "metadata": {
        "id": "pm5cbdSgxzfG",
        "colab": {
          "base_uri": "https://localhost:8080/"
        },
        "outputId": "ac51b8f3-e792-4b26-9422-a825b99cc5a4"
      },
      "execution_count": 12,
      "outputs": [
        {
          "output_type": "execute_result",
          "data": {
            "text/plain": [
              "CompletedProcess(args=['/usr/bin/python3', '-m', 'pip', 'install', 'KnowledgeReduce/knowledge_graph_pkg'], returncode=0)"
            ]
          },
          "metadata": {},
          "execution_count": 12
        }
      ]
    }
  ]
}