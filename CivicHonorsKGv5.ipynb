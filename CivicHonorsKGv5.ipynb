{
  "nbformat": 4,
  "nbformat_minor": 0,
  "metadata": {
    "colab": {
      "provenance": [],
      "toc_visible": true,
      "authorship_tag": "ABX9TyM1XwEnLK837+8mroSxtpxi",
      "include_colab_link": true
    },
    "kernelspec": {
      "name": "python3",
      "display_name": "Python 3"
    },
    "language_info": {
      "name": "python"
    }
  },
  "cells": [
    {
      "cell_type": "markdown",
      "metadata": {
        "id": "view-in-github",
        "colab_type": "text"
      },
      "source": [
        "<a href=\"https://colab.research.google.com/github/nelslindahlx/KnowledgeReduce/blob/main/CivicHonorsKGv5.ipynb\" target=\"_parent\"><img src=\"https://colab.research.google.com/assets/colab-badge.svg\" alt=\"Open In Colab\"/></a>"
      ]
    },
    {
      "cell_type": "markdown",
      "source": [
        "# Code Overview\n",
        "\n",
        "The revised code provides a complete and systematic workflow for web scraping, graph creation, and analysis in Google Colab, encompassing a range of functionalities from data extraction to advanced graph processing. Here's a summary of each step:\n",
        "\n",
        "1. **Install Necessary Libraries**:\n",
        "   - Installs essential Python packages such as `requests` for HTTP requests, `beautifulsoup4` for HTML parsing, `networkx` for graph operations, `lxml` for efficient HTML parsing, `matplotlib` for visualization, and `python-louvain` for community detection in graphs.\n",
        "\n",
        "2. **Import Libraries**:\n",
        "   - All necessary libraries are imported at once, setting up the environment for web scraping, graph creation, and analysis.\n",
        "\n",
        "3. **Web Scraping**:\n",
        "   - The script targets a specific URL and handles web requests with error management. The content of the webpage is fetched for further processing.\n",
        "\n",
        "4. **Parse HTML Content**:\n",
        "   - BeautifulSoup, with the 'lxml' parser, processes the HTML content of the webpage, preparing it for data extraction.\n",
        "\n",
        "5. **Fact Extraction from Web Page**:\n",
        "   - Implements logic to extract textual data (facts) from relevant HTML elements like paragraphs, articles, sections, and divs. This information is stored in a list.\n",
        "\n",
        "6. **Graph Creation and Saving**:\n",
        "   - A directed graph is created using NetworkX, where each unique fact extracted from the website forms a node. The graph is then saved in both GEXF and GraphML formats for subsequent use.\n",
        "\n",
        "7. **Basic Graph Visualization**:\n",
        "   - Visualizes a small part of the knowledge graph for initial inspection, using a spring layout for clearer node arrangement.\n",
        "\n",
        "8. **Combine Multiple Graph Files**:\n",
        "   - Introduces functions to read individual graph files in GEXF and GraphML formats and merge them into a single comprehensive graph. This step automates the detection and processing of multiple graph files.\n",
        "\n",
        "9. **Advanced Graph Analysis**:\n",
        "   - The final, merged graph undergoes advanced analysis, including integrity checks, a portion visualization, community detection using the Louvain method, and visualization of the community structure. The script includes error handling for the community detection process.\n",
        "\n",
        "This complete script offers a robust solution for automated data extraction, knowledge graph creation, and advanced network analysis. It's ideal for diverse applications, including but not limited to, web content analysis, social network analysis, and other data-driven research projects. The workflow is modular and can be adapted or expanded based on specific project requirements.\n"
      ],
      "metadata": {
        "id": "eJIZADEBhW4-"
      }
    },
    {
      "cell_type": "markdown",
      "source": [
        "# Step 1: Install Necessary Libraries"
      ],
      "metadata": {
        "id": "N6vdDkapZV7L"
      }
    },
    {
      "cell_type": "code",
      "execution_count": 1,
      "metadata": {
        "colab": {
          "base_uri": "https://localhost:8080/"
        },
        "id": "C1e8ka9NYekC",
        "outputId": "01562d40-db15-460f-f822-a013e140c244"
      },
      "outputs": [
        {
          "output_type": "stream",
          "name": "stdout",
          "text": [
            "Requirement already satisfied: requests in /usr/local/lib/python3.10/dist-packages (2.31.0)\n",
            "Requirement already satisfied: beautifulsoup4 in /usr/local/lib/python3.10/dist-packages (4.11.2)\n",
            "Requirement already satisfied: networkx in /usr/local/lib/python3.10/dist-packages (3.2.1)\n",
            "Requirement already satisfied: lxml in /usr/local/lib/python3.10/dist-packages (4.9.3)\n",
            "Requirement already satisfied: matplotlib in /usr/local/lib/python3.10/dist-packages (3.7.1)\n",
            "Requirement already satisfied: python-louvain in /usr/local/lib/python3.10/dist-packages (0.16)\n",
            "Requirement already satisfied: charset-normalizer<4,>=2 in /usr/local/lib/python3.10/dist-packages (from requests) (3.3.2)\n",
            "Requirement already satisfied: idna<4,>=2.5 in /usr/local/lib/python3.10/dist-packages (from requests) (3.6)\n",
            "Requirement already satisfied: urllib3<3,>=1.21.1 in /usr/local/lib/python3.10/dist-packages (from requests) (2.0.7)\n",
            "Requirement already satisfied: certifi>=2017.4.17 in /usr/local/lib/python3.10/dist-packages (from requests) (2023.11.17)\n",
            "Requirement already satisfied: soupsieve>1.2 in /usr/local/lib/python3.10/dist-packages (from beautifulsoup4) (2.5)\n",
            "Requirement already satisfied: contourpy>=1.0.1 in /usr/local/lib/python3.10/dist-packages (from matplotlib) (1.2.0)\n",
            "Requirement already satisfied: cycler>=0.10 in /usr/local/lib/python3.10/dist-packages (from matplotlib) (0.12.1)\n",
            "Requirement already satisfied: fonttools>=4.22.0 in /usr/local/lib/python3.10/dist-packages (from matplotlib) (4.46.0)\n",
            "Requirement already satisfied: kiwisolver>=1.0.1 in /usr/local/lib/python3.10/dist-packages (from matplotlib) (1.4.5)\n",
            "Requirement already satisfied: numpy>=1.20 in /usr/local/lib/python3.10/dist-packages (from matplotlib) (1.23.5)\n",
            "Requirement already satisfied: packaging>=20.0 in /usr/local/lib/python3.10/dist-packages (from matplotlib) (23.2)\n",
            "Requirement already satisfied: pillow>=6.2.0 in /usr/local/lib/python3.10/dist-packages (from matplotlib) (9.4.0)\n",
            "Requirement already satisfied: pyparsing>=2.3.1 in /usr/local/lib/python3.10/dist-packages (from matplotlib) (3.1.1)\n",
            "Requirement already satisfied: python-dateutil>=2.7 in /usr/local/lib/python3.10/dist-packages (from matplotlib) (2.8.2)\n",
            "Requirement already satisfied: six>=1.5 in /usr/local/lib/python3.10/dist-packages (from python-dateutil>=2.7->matplotlib) (1.16.0)\n",
            "Requirement already satisfied: python-louvain in /usr/local/lib/python3.10/dist-packages (0.16)\n",
            "Requirement already satisfied: networkx in /usr/local/lib/python3.10/dist-packages (from python-louvain) (3.2.1)\n",
            "Requirement already satisfied: numpy in /usr/local/lib/python3.10/dist-packages (from python-louvain) (1.23.5)\n"
          ]
        }
      ],
      "source": [
        "!pip install requests beautifulsoup4 networkx lxml matplotlib python-louvain\n",
        "# Upgrade the community package. Step 9 had problems without the upgrade\n",
        "!pip install --upgrade python-louvain"
      ]
    },
    {
      "cell_type": "markdown",
      "source": [
        "# Step 2: Import Libraries"
      ],
      "metadata": {
        "id": "xIRgpdDaaJbL"
      }
    },
    {
      "cell_type": "code",
      "source": [
        "import requests\n",
        "from bs4 import BeautifulSoup\n",
        "import networkx as nx\n",
        "import matplotlib.pyplot as plt\n",
        "import re\n",
        "import os\n",
        "# Import the community package correctly\n",
        "from community import community_louvain"
      ],
      "metadata": {
        "id": "KUb6aGUuaK1q"
      },
      "execution_count": 2,
      "outputs": []
    },
    {
      "cell_type": "markdown",
      "source": [
        "# Step 3: Define the URL and Send a Request with Error Handling"
      ],
      "metadata": {
        "id": "6s2TOOO0aMP2"
      }
    },
    {
      "cell_type": "code",
      "source": [
        "url = \"https://www.civichonors.com\"\n",
        "try:\n",
        "    response = requests.get(url)\n",
        "    response.raise_for_status()\n",
        "except requests.exceptions.RequestException as e:\n",
        "    print(f\"Error during requests to {url} : {e}\")"
      ],
      "metadata": {
        "id": "wKi2f5kKaOGR"
      },
      "execution_count": 3,
      "outputs": []
    },
    {
      "cell_type": "markdown",
      "source": [
        "# Step 4: Parse the HTML Content with Robust Parsing"
      ],
      "metadata": {
        "id": "lhJsC9UfaOwu"
      }
    },
    {
      "cell_type": "code",
      "source": [
        "soup = BeautifulSoup(response.content, 'lxml') if response else None"
      ],
      "metadata": {
        "id": "WYx4tgJPaR4T"
      },
      "execution_count": 4,
      "outputs": []
    },
    {
      "cell_type": "markdown",
      "source": [
        "# Step 5: Enhanced Fact Extraction Logic"
      ],
      "metadata": {
        "id": "dgzPz3CKaTWk"
      }
    },
    {
      "cell_type": "code",
      "source": [
        "if soup:\n",
        "    facts = []\n",
        "\n",
        "    # Targeted Section Extraction\n",
        "    target_selectors = ['.fact-content', '#main-facts', 'div.info-box']\n",
        "    for selector in target_selectors:\n",
        "        for element in soup.select(selector):\n",
        "            text = ' '.join(element.stripped_strings)\n",
        "            if text:\n",
        "                facts.append(text)\n",
        "\n",
        "    # Pattern-Based Extraction\n",
        "    for tag in soup.find_all(['p', 'article', 'section', 'div']):\n",
        "        if re.search(r'^(Fact:|Info:|Note:)', tag.text) or re.search(r'\\d{4}', tag.text):\n",
        "            text = ' '.join(tag.stripped_strings)\n",
        "            if text:\n",
        "                facts.append(text)\n",
        "\n",
        "    # Redundancy and Irrelevance Filtering\n",
        "    non_fact_selectors = ['.advertisement', '#comments', '.footer']\n",
        "    for selector in non_fact_selectors:\n",
        "        for element in soup.select(selector):\n",
        "            text = ' '.join(element.stripped_strings)\n",
        "            if text in facts:\n",
        "                facts.remove(text)\n",
        "else:\n",
        "    facts = []"
      ],
      "metadata": {
        "id": "KRNfDjI_aaLx"
      },
      "execution_count": 5,
      "outputs": []
    },
    {
      "cell_type": "markdown",
      "source": [
        "# Step 6: Create a Directed Graph with Unique Facts"
      ],
      "metadata": {
        "id": "mkmV9cG8aYtm"
      }
    },
    {
      "cell_type": "code",
      "source": [
        "G = nx.DiGraph()\n",
        "for i, fact in enumerate(set(facts)):  # Using set() for uniqueness\n",
        "    G.add_node(i, label=fact)\n",
        "\n",
        "# Save the Graph in GEXF and GraphML Formats\n",
        "nx.write_gexf(G, 'civic_honors_facts_graph.gexf')\n",
        "nx.write_graphml(G, 'civic_honors_facts_graph.graphml')"
      ],
      "metadata": {
        "id": "g4LMqPWUaegk"
      },
      "execution_count": 6,
      "outputs": []
    },
    {
      "cell_type": "markdown",
      "source": [
        "# Step 7: Test the Knowledge Graphs"
      ],
      "metadata": {
        "id": "kbLAu2xCajv0"
      }
    },
    {
      "cell_type": "code",
      "source": [
        "G_gexf = nx.read_gexf('civic_honors_facts_graph.gexf')\n",
        "print(\"Nodes in GEXF graph:\", len(G_gexf.nodes()))\n",
        "print(\"Edges in GEXF graph:\", len(G_gexf.edges()))\n",
        "\n",
        "subgraph_nodes = list(G_gexf.nodes())[:10]\n",
        "small_subgraph = nx.subgraph(G_gexf, subgraph_nodes)\n",
        "pos = nx.spring_layout(small_subgraph)\n",
        "nx.draw(small_subgraph, pos, with_labels=True, node_color='skyblue', node_size=2000, font_size=10)\n",
        "plt.show()"
      ],
      "metadata": {
        "colab": {
          "base_uri": "https://localhost:8080/",
          "height": 551
        },
        "id": "8sxShxuubesC",
        "outputId": "9da3c859-f6c2-41b2-edd1-4c9bcdfa7b5d"
      },
      "execution_count": 7,
      "outputs": [
        {
          "output_type": "stream",
          "name": "stdout",
          "text": [
            "Nodes in GEXF graph: 73\n",
            "Edges in GEXF graph: 0\n"
          ]
        },
        {
          "output_type": "display_data",
          "data": {
            "text/plain": [
              "<Figure size 640x480 with 1 Axes>"
            ],
            "image/png": "[encoded data removed]"
          },
          "metadata": {}
        }
      ]
    },
    {
      "cell_type": "markdown",
      "source": [
        "# Step 8: Handle and Combine Multiple Graph Files"
      ],
      "metadata": {
        "id": "5SMma_NMkJja"
      }
    },
    {
      "cell_type": "code",
      "source": [
        "def read_graph(file_path):\n",
        "    if file_path.endswith('.gexf'):\n",
        "        return nx.read_gexf(file_path)\n",
        "    elif file_path.endswith('.graphml'):\n",
        "        return nx.read_graphml(file_path)\n",
        "    else:\n",
        "        raise ValueError(\"Unsupported file format\")\n",
        "\n",
        "def merge_graphs(graphs):\n",
        "    merged_graph = nx.DiGraph()\n",
        "    for graph in graphs:\n",
        "        merged_graph = nx.compose(merged_graph, graph)\n",
        "    return merged_graph\n",
        "\n",
        "graph_files = [f for f in os.listdir() if f.endswith('.gexf') or f.endswith('.graphml')]\n",
        "all_graphs = [read_graph(file) for file in graph_files]\n",
        "merged_graph = merge_graphs(all_graphs)\n",
        "nx.write_gexf(merged_graph, 'merged_knowledge_graph.gexf')"
      ],
      "metadata": {
        "id": "2Mq6qPoMlH1v"
      },
      "execution_count": 8,
      "outputs": []
    },
    {
      "cell_type": "markdown",
      "source": [
        "# Step 9: Test and Evaluate the Merged Graph"
      ],
      "metadata": {
        "id": "bi_nBfM8msGX"
      }
    },
    {
      "cell_type": "code",
      "source": [
        "print(\"Nodes in merged graph:\", len(merged_graph.nodes()))\n",
        "print(\"Edges in merged graph:\", len(merged_graph.edges()))\n",
        "\n",
        "subgraph_nodes = list(merged_graph.nodes())[:10]\n",
        "subgraph = nx.subgraph(merged_graph, subgraph_nodes)\n",
        "pos = nx.spring_layout(subgraph)\n",
        "nx.draw(subgraph, pos, with_labels=True, node_color='lightblue', node_size=2000, font_size=8)\n",
        "plt.show()\n",
        "\n",
        "try:\n",
        "    partition = community_louvain.best_partition(merged_graph.to_undirected())\n",
        "    num_communities = len(set(partition.values()))\n",
        "    print(\"Number of communities detected:\", num_communities)\n",
        "\n",
        "    colors = [partition[node] for node in merged_graph.nodes()]\n",
        "    nx.draw(merged_graph, node_color=colors, node_size=40, cmap=plt.cm.jet)\n",
        "    plt.show()\n",
        "except AttributeError as e:\n",
        "    print(\"Error in community detection:\", e)"
      ],
      "metadata": {
        "colab": {
          "base_uri": "https://localhost:8080/",
          "height": 1000
        },
        "id": "AmXoK5CWpZgE",
        "outputId": "f5261af7-854e-4003-c35f-8bef29833b3d"
      },
      "execution_count": 9,
      "outputs": [
        {
          "output_type": "stream",
          "name": "stdout",
          "text": [
            "Nodes in merged graph: 73\n",
            "Edges in merged graph: 0\n"
          ]
        },
        {
          "output_type": "display_data",
          "data": {
            "text/plain": [
              "<Figure size 640x480 with 1 Axes>"
            ],
            "image/png": "[encoded data removed]"
          },
          "metadata": {}
        },
        {
          "output_type": "stream",
          "name": "stdout",
          "text": [
            "Number of communities detected: 73\n"
          ]
        },
        {
          "output_type": "display_data",
          "data": {
            "text/plain": [
              "<Figure size 640x480 with 1 Axes>"
            ],
            "image/png": "[encoded data removed]"
          },
          "metadata": {}
        }
      ]
    }
  ]
}